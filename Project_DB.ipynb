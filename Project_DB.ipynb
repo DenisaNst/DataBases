{
 "cells": [
  {
   "cell_type": "code",
   "outputs": [],
   "source": [
    "%%sql\n",
    "USE project;"
   ],
   "metadata": {
    "collapsed": false,
    "SqlCellData": {
     "data_source_name": "@localhost [2]",
     "variableName$1": "df_sql9"
    },
    "ExecuteTime": {
     "end_time": "2024-09-13T10:03:44.596784100Z",
     "start_time": "2024-09-13T10:03:44.400603700Z"
    }
   },
   "id": "320e883c8ac1eb85"
  },
  {
   "cell_type": "code",
   "outputs": [],
   "source": [
    "%%sql\n",
    "CREATE TABLE Customers (Customer_ID INT PRIMARY KEY, Name TEXT, Gender TEXT, \n",
    "                        Adress VARCHAR(255), Birthdate INT, Phone INT);"
   ],
   "metadata": {
    "collapsed": false,
    "SqlCellData": {
     "data_source_name": "@localhost [2]",
     "variableName$1": "df_sql14"
    },
    "ExecuteTime": {
     "end_time": "2024-09-13T10:18:57.769822400Z",
     "start_time": "2024-09-13T10:18:57.703815100Z"
    }
   },
   "id": "2071068f8d5e58"
  },
  {
   "cell_type": "code",
   "outputs": [],
   "source": [
    "%%sql\n",
    "\n",
    "CREATE TABLE LoginInformation (\n",
    "    Customer_ID INT,\n",
    "    Username VARCHAR(50) NOT NULL,\n",
    "    UserPassword VARCHAR(50) NOT NULL,\n",
    "    FOREIGN KEY (Customer_ID) REFERENCES Customers(Customer_ID)\n",
    ");"
   ],
   "metadata": {
    "collapsed": false,
    "SqlCellData": {
     "data_source_name": "@localhost [2]",
     "variableName$1": "df_sql16"
    },
    "ExecuteTime": {
     "end_time": "2024-09-13T10:21:36.422914500Z",
     "start_time": "2024-09-13T10:21:36.337908200Z"
    }
   },
   "id": "70170334c5116add"
  },
  {
   "cell_type": "code",
   "outputs": [],
   "source": [
    "%%sql\n",
    "CREATE TABLE Pizza (Pizza_ID INTEGER PRIMARY KEY , Name TEXT, Ingridients TEXT, \n",
    "                    Dietary_information TEXT, Price DOUBLE); "
   ],
   "metadata": {
    "collapsed": false,
    "SqlCellData": {
     "data_source_name": "@localhost [2]",
     "variableName$1": "df_sql18"
    },
    "ExecuteTime": {
     "end_time": "2024-09-13T10:24:37.381672700Z",
     "start_time": "2024-09-13T10:24:37.317669200Z"
    }
   },
   "id": "a55db9fdde88b0b4"
  },
  {
   "cell_type": "code",
   "outputs": [],
   "source": [
    "%%sql\n",
    "CREATE TABLE Order_Info (Order_number INTEGER PRIMARY KEY, Customer_ID INTEGER,\n",
    "                    Date DATE, Time TIME, Price DOUBLE,\n",
    "                    FOREIGN KEY (Customer_ID) REFERENCES Customers (Customer_ID));"
   ],
   "metadata": {
    "collapsed": false,
    "SqlCellData": {
     "data_source_name": "@localhost [2]",
     "variableName$1": "df_sql21"
    },
    "ExecuteTime": {
     "end_time": "2024-09-13T10:36:44.157520100Z",
     "start_time": "2024-09-13T10:36:44.071511600Z"
    }
   },
   "id": "d92de6b9b2710452",
   "execution_count": 6
  },
  {
   "cell_type": "code",
   "outputs": [],
   "source": [
    "%%sql\n",
    "CREATE TABLE Pizza_order (Order_number INTEGER, Pizza_ID INTEGER, \n",
    "                         FOREIGN KEY (Pizza_ID) REFERENCES  Pizza (Pizza_ID),\n",
    "                         FOREIGN KEY (Order_number) REFERENCES Order_Info (Order_number));"
   ],
   "metadata": {
    "collapsed": false,
    "SqlCellData": {
     "data_source_name": "@localhost [2]",
     "variableName$1": "df_sql22"
    },
    "ExecuteTime": {
     "end_time": "2024-09-13T10:38:06.777234200Z",
     "start_time": "2024-09-13T10:38:06.686229200Z"
    }
   },
   "id": "347aeacac9aa96f1",
   "execution_count": 7
  },
  {
   "cell_type": "code",
   "outputs": [],
   "source": [
    "%%sql\n",
    "CREATE TABLE Additional_Items (Additional_ID INTEGER PRIMARY KEY , Item TEXT, Price DOUBLE);"
   ],
   "metadata": {
    "collapsed": false,
    "SqlCellData": {
     "data_source_name": "@localhost [2]",
     "variableName$1": "df_sql23"
    },
    "ExecuteTime": {
     "end_time": "2024-09-13T10:44:55.600428Z",
     "start_time": "2024-09-13T10:44:55.546424100Z"
    }
   },
   "id": "253aae2560a9321b"
  },
  {
   "cell_type": "code",
   "outputs": [],
   "source": [
    "%%sql\n",
    "CREATE TABLE Additional_Items_Order(Order_number INTEGER, Additional_ID INTEGER,\n",
    "                                    FOREIGN KEY (Order_number) REFERENCES Order_Info (Order_number),\n",
    "                                    FOREIGN KEY (Additional_ID) REFERENCES Additional_Items (Additional_ID));"
   ],
   "metadata": {
    "collapsed": false,
    "SqlCellData": {
     "data_source_name": "@localhost [2]",
     "variableName$1": "df_sql24"
    },
    "ExecuteTime": {
     "end_time": "2024-09-13T10:45:11.598910700Z",
     "start_time": "2024-09-13T10:45:11.521905300Z"
    }
   },
   "id": "f620c3f8a9807089",
   "execution_count": 8
  },
  {
   "cell_type": "code",
   "outputs": [],
   "source": [
    "%%sql\n",
    "CREATE TABLE Delivery_Employee(Delivery_ID INTEGER PRIMARY KEY , \n",
    "                               Assigned_area VARCHAR(10), Availability TEXT);"
   ],
   "metadata": {
    "collapsed": false,
    "SqlCellData": {
     "data_source_name": "@localhost [2]",
     "variableName$1": "df_sql26"
    },
    "ExecuteTime": {
     "end_time": "2024-09-13T10:46:39.446932300Z",
     "start_time": "2024-09-13T10:46:39.387948Z"
    }
   },
   "id": "199d88e0fa115c3c"
  },
  {
   "cell_type": "code",
   "outputs": [],
   "source": [
    "%%sql\n",
    "CREATE TABLE Delivery(Order_number INTEGER, Delivery_ID INTEGER,Status TEXT, Time_delivery TIME, \n",
    "                      FOREIGN KEY (Order_number) REFERENCES Order_Info(Order_number),\n",
    "                     FOREIGN KEY (Delivery_ID) REFERENCES Delivery_Employee(Delivery_ID));"
   ],
   "metadata": {
    "collapsed": false,
    "SqlCellData": {
     "data_source_name": "@localhost [2]",
     "variableName$1": "df_sql27"
    },
    "ExecuteTime": {
     "end_time": "2024-09-13T10:49:07.700641900Z",
     "start_time": "2024-09-13T10:49:07.619634200Z"
    }
   },
   "id": "80b03eb24f81f1e"
  }
 ],
 "metadata": {
  "kernelspec": {
   "display_name": "Python 3",
   "language": "python",
   "name": "python3"
  },
  "language_info": {
   "codemirror_mode": {
    "name": "ipython",
    "version": 2
   },
   "file_extension": ".py",
   "mimetype": "text/x-python",
   "name": "python",
   "nbconvert_exporter": "python",
   "pygments_lexer": "ipython2",
   "version": "2.7.6"
  }
 },
 "nbformat": 4,
 "nbformat_minor": 5
}
