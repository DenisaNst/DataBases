{
 "cells": [
  {
   "cell_type": "code",
   "outputs": [],
   "source": [
    "%%sql\n",
    "CREATE TABLE Costumers (Costumer_ID INT PRIMARY KEY, Name TEXT, Gender TEXT, \n",
    "                        Adress VARCHAR(255), Birthdate INT, Phone INT);"
   ],
   "metadata": {
    "collapsed": false,
    "SqlCellData": {
     "data_source_name": "@localhost",
     "variableName$1": "df_sql"
    }
   },
   "id": "c875a305049e3b08",
   "execution_count": null
  },
  {
   "cell_type": "code",
   "outputs": [],
   "source": [
    "%%sql\n",
    "CREATE TABLE Login_Information (Costumer_ID INT PRIMARY KEY, Username VARCHAR(255), Password VARCHAR(255));"
   ],
   "metadata": {
    "collapsed": false,
    "SqlCellData": {
     "data_source_name": "@localhost",
     "variableName$1": "df_sql1"
    }
   },
   "id": "8167a9edc209d0f0",
   "execution_count": null
  },
  {
   "cell_type": "code",
   "outputs": [],
   "source": [
    "%%sql\n",
    "CREATE TABLE Pizza (Pizza_ID INTEGER, Name TEXT, Ingridients TEXT, \n",
    "                    Dietary_information TEXT, Price DOUBLE);"
   ],
   "metadata": {
    "collapsed": false,
    "SqlCellData": {
     "data_source_name": "@localhost",
     "variableName$1": "df_sql2"
    }
   },
   "id": "cd8d2169a1a04f77"
  },
  {
   "cell_type": "code",
   "outputs": [],
   "source": [
    "%%sql\n",
    "CREATE TABLE Pizza_order (Order_number INTEGER PRIMARY KEY, Pizza_ID INTEGER);"
   ],
   "metadata": {
    "collapsed": false,
    "SqlCellData": {
     "data_source_name": "@localhost",
     "variableName$1": "df_sql3"
    }
   },
   "id": "b9dfc4df87ad658d"
  },
  {
   "cell_type": "code",
   "outputs": [],
   "source": [
    "%%sql\n",
    "CREATE TABLE Addiional_Items (Additional_ID INTEGER, Item TEXT, Price DOUBLE);"
   ],
   "metadata": {
    "collapsed": false,
    "SqlCellData": {
     "data_source_name": "@localhost",
     "variableName$1": "df_sql4"
    }
   },
   "id": "5a685e6b9f22b161"
  },
  {
   "cell_type": "code",
   "outputs": [],
   "source": [
    "%%sql\n",
    "CREATE TABLE Additional_Items_Order(Order_number INTEGER, Additional_ID INTEGER);"
   ],
   "metadata": {
    "collapsed": false,
    "SqlCellData": {
     "data_source_name": "@localhost",
     "variableName$1": "df_sql5"
    }
   },
   "id": "f32c557ad6fa97a3"
  },
  {
   "cell_type": "code",
   "outputs": [],
   "source": [
    "%%sql\n",
    "CREATE TABLE Order (Order_number INTEGER PRIMARY KEY, Costumer_ID INTEGER,\n",
    "                    Date DATE, Time TIME, Price DOUBLE);"
   ],
   "metadata": {
    "collapsed": false,
    "SqlCellData": {
     "data_source_name": "@localhost",
     "variableName$1": "df_sql6"
    }
   },
   "id": "eeabf4216aeacf3"
  },
  {
   "cell_type": "code",
   "outputs": [],
   "source": [
    "%%sql\n",
    "CREATE TABLE Delivery(Status TEXT, Time_delivery TIME, Delivery_person INTEGER, \n",
    "                      Order_number INTEGER);"
   ],
   "metadata": {
    "collapsed": false,
    "SqlCellData": {
     "data_source_name": "@localhost",
     "variableName$1": "df_sql7"
    }
   },
   "id": "9826c3d9d8d46ed7"
  },
  {
   "cell_type": "code",
   "outputs": [],
   "source": [
    "%%sql\n",
    "CREATE TABLE Delivery_Employee(Delivery_ID INTEGER PRIMARY KEY , \n",
    "                            Assigned_area VARCHAR(10), Availability TEXT);"
   ],
   "metadata": {
    "collapsed": false,
    "SqlCellData": {
     "data_source_name": "@localhost",
     "variableName$1": "df_sql8"
    }
   },
   "id": "bb9144a6fb475f9e"
  }
 ],
 "metadata": {
  "kernelspec": {
   "display_name": "Python 3",
   "language": "python",
   "name": "python3"
  },
  "language_info": {
   "codemirror_mode": {
    "name": "ipython",
    "version": 2
   },
   "file_extension": ".py",
   "mimetype": "text/x-python",
   "name": "python",
   "nbconvert_exporter": "python",
   "pygments_lexer": "ipython2",
   "version": "2.7.6"
  }
 },
 "nbformat": 4,
 "nbformat_minor": 5
}
