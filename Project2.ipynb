{
 "cells": [
  {
   "cell_type": "code",
   "outputs": [],
   "source": [
    "%%sql\n",
    "CREATE TABLE Customers (\n",
    "  `CustomerID` INTEGER PRIMARY KEY AUTO_INCREMENT,\n",
    "  `Name` TEXT,\n",
    "  `Gender` TEXT,\n",
    "  `Address` VARCHAR(255),\n",
    "  `Birthdate` INTEGER,\n",
    "  `Phone` INTEGER\n",
    ");"
   ],
   "metadata": {
    "collapsed": false,
    "SqlCellData": {
     "data_source_name": "@localhost",
     "variableName$1": "df_sql"
    }
   },
   "id": "ea0e487cb030bcbb",
   "execution_count": null
  },
  {
   "cell_type": "code",
   "outputs": [],
   "source": [
    "%%sql\n",
    "USE project;"
   ],
   "metadata": {
    "collapsed": false,
    "SqlCellData": {
     "data_source_name": "@localhost",
     "variableName$1": "df_sql12"
    },
    "ExecuteTime": {
     "end_time": "2024-10-07T07:25:40.864158200Z",
     "start_time": "2024-10-07T07:24:53.374949600Z"
    }
   },
   "id": "f73b8954bd73db22"
  },
  {
   "cell_type": "code",
   "outputs": [],
   "source": [
    "%%sql\n",
    "CREATE DATABASE project;"
   ],
   "metadata": {
    "collapsed": false,
    "SqlCellData": {
     "data_source_name": "@localhost",
     "variableName$1": "df_sql11"
    }
   },
   "id": "fc5b7537606f83da",
   "execution_count": null
  },
  {
   "cell_type": "code",
   "outputs": [],
   "source": [
    "%%sql\n",
    "CREATE TABLE OrderInfo (\n",
    "  `OrderNumber` INTEGER PRIMARY KEY AUTO_INCREMENT,\n",
    "  `CustomerID` INTEGER,\n",
    "  `Date` Date,\n",
    "  `Time` Time,\n",
    "  `Price` DOUBLE,\n",
    "  FOREIGN KEY (`CustomerID`) REFERENCES Customers (`CustomerID`) \n",
    "    ON DELETE CASCADE\n",
    "    ON UPDATE CASCADE\n",
    ");"
   ],
   "metadata": {
    "collapsed": false,
    "SqlCellData": {
     "data_source_name": "@localhost",
     "variableName$1": "df_sql1"
    },
    "ExecuteTime": {
     "end_time": "2024-09-17T13:07:12.308512800Z",
     "start_time": "2024-09-17T13:07:12.135724700Z"
    }
   },
   "id": "5a798215ac8c0c53",
   "execution_count": 19
  },
  {
   "cell_type": "code",
   "outputs": [],
   "source": [
    "%%sql\n",
    "CREATE TABLE MenuItemsOrder (\n",
    "  `OrderNumber` INTEGER,\n",
    "  `MenuItemsID` INTEGER,\n",
    "  FOREIGN KEY (`OrderNumber`) REFERENCES OrderInfo (`OrderNumber`),\n",
    "  FOREIGN KEY (`MenuItemsID`) REFERENCES MenuItems (`MenuItemsID`)\n",
    "    ON DELETE CASCADE\n",
    "    ON UPDATE CASCADE\n",
    ");"
   ],
   "metadata": {
    "collapsed": false,
    "SqlCellData": {
     "data_source_name": "@localhost",
     "variableName$1": "df_sql2"
    },
    "ExecuteTime": {
     "end_time": "2024-09-17T13:07:19.689946400Z",
     "start_time": "2024-09-17T13:07:19.552937800Z"
    }
   },
   "id": "c23e5600f6b39b70",
   "execution_count": 20
  },
  {
   "cell_type": "code",
   "outputs": [],
   "source": [
    "%%sql\n",
    "CREATE TABLE MenuItems (\n",
    "  `MenuItemsID` INTEGER PRIMARY KEY AUTO_INCREMENT,\n",
    "  `Name` TEXT,\n",
    "  `Price` DOUBLE \n",
    ");"
   ],
   "metadata": {
    "collapsed": false,
    "SqlCellData": {
     "data_source_name": "@localhost",
     "variableName$1": "df_sql3"
    },
    "ExecuteTime": {
     "end_time": "2024-09-17T13:06:52.519858700Z",
     "start_time": "2024-09-17T13:06:52.255395300Z"
    }
   },
   "id": "d6d5d87843ab42ef"
  },
  {
   "cell_type": "code",
   "outputs": [],
   "source": [
    "%%sql\n",
    "CREATE TABLE PizzaOrder (\n",
    "  `OrderNumber` INTEGER,\n",
    "  `PizzaID` INTEGER,\n",
    "  FOREIGN KEY (`OrderNumber`) REFERENCES OrderInfo (`OrderNumber`),\n",
    "  FOREIGN KEY (`PizzaID`) REFERENCES Pizza (`PizzaID`)\n",
    "    ON DELETE CASCADE\n",
    "    ON UPDATE CASCADE\n",
    ");"
   ],
   "metadata": {
    "collapsed": false,
    "SqlCellData": {
     "data_source_name": "@localhost",
     "variableName$1": "df_sql4"
    },
    "ExecuteTime": {
     "end_time": "2024-09-26T11:58:34.078267200Z",
     "start_time": "2024-09-26T11:58:33.989257300Z"
    }
   },
   "id": "f396c7346f89066",
   "execution_count": 32
  },
  {
   "cell_type": "code",
   "outputs": [],
   "source": [
    "%%sql\n",
    "CREATE TABLE Pizza (\n",
    "  `PizzaID` INTEGER PRIMARY KEY AUTO_INCREMENT,\n",
    "  `Name` TEXT,\n",
    "  `DietaryInfo` TEXT,\n",
    "  `Price` DOUBLE\n",
    ");\n"
   ],
   "metadata": {
    "collapsed": false,
    "SqlCellData": {
     "data_source_name": "@localhost",
     "variableName$1": "df_sql5"
    },
    "ExecuteTime": {
     "end_time": "2024-09-26T11:58:30.039825900Z",
     "start_time": "2024-09-26T11:58:29.974826400Z"
    }
   },
   "id": "e6fa1ce078642b4f",
   "execution_count": 28
  },
  {
   "cell_type": "code",
   "outputs": [],
   "source": [
    "%%sql\n",
    "CREATE TABLE LoginInformation (\n",
    "  `CustomerID` INTEGER PRIMARY KEY AUTO_INCREMENT,\n",
    "  `Username` VARCHAR(255),\n",
    "  `Password` VARCHAR(255),\n",
    "  FOREIGN KEY (CustomerID) REFERENCES Customers(CustomerID)\n",
    "    ON DELETE CASCADE\n",
    "    ON UPDATE CASCADE\n",
    ");"
   ],
   "metadata": {
    "collapsed": false,
    "SqlCellData": {
     "data_source_name": "@localhost",
     "variableName$1": "df_sql6"
    },
    "ExecuteTime": {
     "end_time": "2024-09-17T13:06:53.046881200Z",
     "start_time": "2024-09-17T13:06:52.831226900Z"
    }
   },
   "id": "1419b72c14f56272",
   "execution_count": 7
  },
  {
   "cell_type": "code",
   "outputs": [],
   "source": [
    "%%sql\n",
    "CREATE TABLE DeliveryPerson (\n",
    "  `DeliveryID` INTEGER PRIMARY KEY AUTO_INCREMENT,\n",
    "  `AssignedArea` VARCHAR(9),\n",
    "  `Availability` TEXT\n",
    ");"
   ],
   "metadata": {
    "collapsed": false,
    "SqlCellData": {
     "data_source_name": "@localhost",
     "variableName$1": "df_sql7"
    },
    "ExecuteTime": {
     "end_time": "2024-09-17T13:06:53.297568Z",
     "start_time": "2024-09-17T13:06:53.047877700Z"
    }
   },
   "id": "81f9f52bdc8ea12d"
  },
  {
   "cell_type": "code",
   "outputs": [],
   "source": [
    "%%sql\n",
    "CREATE TABLE Delivery (\n",
    "  `OrderNumber` INTEGER,\n",
    "  `DeliveryID` INTEGER,\n",
    "   `Status` TEXT,\n",
    "  `DeliveryTime` Time,\n",
    "  FOREIGN KEY (`DeliveryID`) REFERENCES DeliveryPerson (`DeliveryID`),\n",
    "  FOREIGN KEY (OrderNumber) REFERENCES OrderInfo (`OrderNumber`)\n",
    "    ON DELETE CASCADE\n",
    "    ON UPDATE CASCADE\n",
    ");"
   ],
   "metadata": {
    "collapsed": false,
    "SqlCellData": {
     "data_source_name": "@localhost",
     "variableName$1": "df_sql8"
    },
    "ExecuteTime": {
     "end_time": "2024-09-17T13:16:53.272573100Z",
     "start_time": "2024-09-17T13:16:53.137579Z"
    }
   },
   "id": "ab39b71dd69daf26",
   "execution_count": 23
  },
  {
   "cell_type": "code",
   "outputs": [],
   "source": [
    "%%sql\n",
    "\n",
    "CREATE TABLE Ingredients (\n",
    "  `IngredientID` INTEGER PRIMARY KEY AUTO_INCREMENT,\n",
    "  `Name` TEXT,\n",
    "  `Price` DOUBLE\n",
    ");"
   ],
   "metadata": {
    "collapsed": false,
    "SqlCellData": {
     "data_source_name": "@localhost",
     "variableName$1": "df_sql9"
    },
    "ExecuteTime": {
     "end_time": "2024-09-26T11:59:08.461594700Z",
     "start_time": "2024-09-26T11:59:08.396592500Z"
    }
   },
   "id": "7baaa1818ab967ea"
  },
  {
   "cell_type": "code",
   "outputs": [],
   "source": [
    "%%sql\n",
    "CREATE TABLE PizzaIngredients (\n",
    "  `PizzaID` INTEGER,\n",
    "  `IngredientID` INTEGER,\n",
    "  `DietaryInfo` TEXT,\n",
    "  `Price` DOUBLE,\n",
    "  FOREIGN KEY (`PizzaID`) REFERENCES `Pizza`(`PizzaID`),\n",
    "  FOREIGN KEY (`IngredientID`) REFERENCES `Ingredients`(`IngredientID`)\n",
    "    ON DELETE CASCADE\n",
    "    ON UPDATE CASCADE\n",
    ");"
   ],
   "metadata": {
    "collapsed": false,
    "SqlCellData": {
     "data_source_name": "@localhost",
     "variableName$1": "df_sql10"
    },
    "ExecuteTime": {
     "end_time": "2024-09-26T11:59:24.232246500Z",
     "start_time": "2024-09-26T11:59:24.143230500Z"
    }
   },
   "id": "d7e4299c5bacb719",
   "execution_count": 10
  },
  {
   "cell_type": "code",
   "outputs": [],
   "source": [
    "%%sql\n",
    "INSERT INTO Ingredients (Name, Price) VALUES \n",
    "   ('Tomato sauce', 2.50),\n",
    "   ('Mozzarella', 4.20), \n",
    "   ('Pepperoni', 3.50), \n",
    "   ('Mushrooms',2.20), \n",
    "   ('Olives',2.40), \n",
    "   ('Basil',1.60),\n",
    "   ('Onions',1.20),\n",
    "   ('Bell Peppers',4.50),\n",
    "   ('Sausage', 5.20),   \n",
    "   ('Pineapple', 6.50);\n"
   ],
   "metadata": {
    "collapsed": false,
    "SqlCellData": {
     "data_source_name": "@localhost",
     "variableName$1": "df_sql13"
    },
    "ExecuteTime": {
     "end_time": "2024-09-29T13:27:48.820987Z",
     "start_time": "2024-09-29T13:27:48.737978Z"
    }
   },
   "id": "6aede61c375865ad",
   "execution_count": 36
  },
  {
   "cell_type": "code",
   "outputs": [
    {
     "name": "stdout",
     "output_type": "stream",
     "text": [
      "1.4.39\n"
     ]
    }
   ],
   "source": [
    "import sqlalchemy\n",
    "print(sqlalchemy.__version__)"
   ],
   "metadata": {
    "collapsed": false,
    "ExecuteTime": {
     "end_time": "2024-09-17T14:41:51.538038600Z",
     "start_time": "2024-09-17T14:41:51.527035900Z"
    }
   },
   "id": "b0c155e8fe33f09a",
   "execution_count": 21
  },
  {
   "cell_type": "code",
   "outputs": [],
   "source": [
    "%%sql\n",
    "ALTER TABLE Customers MODIFY COLUMN Birthdate DATE;"
   ],
   "metadata": {
    "collapsed": false,
    "SqlCellData": {
     "data_source_name": "@localhost",
     "variableName$1": "df_sql16"
    }
   },
   "id": "dda13a98287a7579",
   "execution_count": 35
  },
  {
   "cell_type": "code",
   "outputs": [],
   "source": [
    "%%sql\n",
    "SELECT * FROM Customers;"
   ],
   "metadata": {
    "collapsed": false,
    "SqlCellData": {
     "data_source_name": "@localhost",
     "variableName$1": "df_sql18"
    }
   },
   "id": "cd9936f07c067122",
   "execution_count": null
  },
  {
   "cell_type": "code",
   "outputs": [],
   "source": [
    "%%sql\n",
    "INSERT INTO Pizza(Name, DietaryInfo) VALUES ('Margherita', 'Vegetarian'), \n",
    "                                                   ('Pepperoni', 'Meat'), \n",
    "                                                   ('Hawaiian', 'Meat'), \n",
    "                                                   ('Vegetarian Delight', 'Vegetarian'),\n",
    "                                                   ('Meat Lover', 'Meat'), \n",
    "                                                   ('Four Seasons', 'Vegan'),\n",
    "                                                   ('BBQ Chicken Pizza', 'Meat'),\n",
    "                                                   ('Capricciosa', 'Meat'),\n",
    "                                                   ('Mexican Pizza', 'Meat'),\n",
    "                                                   ('Supreme Pizza', 'Meat');"
   ],
   "metadata": {
    "collapsed": false,
    "SqlCellData": {
     "data_source_name": "@localhost",
     "variableName$1": "df_sql19"
    },
    "ExecuteTime": {
     "end_time": "2024-10-01T08:36:02.425502100Z",
     "start_time": "2024-10-01T08:36:02.312494700Z"
    }
   },
   "id": "5c68e733d0901438",
   "execution_count": 1
  },
  {
   "cell_type": "code",
   "outputs": [],
   "source": [
    "%%sql\n",
    "INSERT INTO PizzaIngredients (PizzaID, IngredientID, DietaryInfo, Price) VALUES \n",
    "(1, 1, 'Vegetarian', 2.50), \n",
    "(1, 2, 'Vegetarian', 4.20), \n",
    "(1, 6, 'Vegetarian', 1.60), \n",
    "(2, 1, 'Meat', 2.50), \n",
    "(2, 2, 'Meat', 4.20), \n",
    "(2, 3, 'Meat', 3.50), \n",
    "(3, 1, 'Meat', 2.50), \n",
    "(3, 2, 'Meat', 4.20), \n",
    "(3, 9, 'Meat', 5.20), \n",
    "(4, 1, 'Vegetarian', 2.50), \n",
    "(4, 2, 'Vegetarian', 4.20), \n",
    "(4, 4, 'Vegetarian', 2.20), \n",
    "(4, 7, 'Vegetarian', 1.20), \n",
    "(4, 8, 'Vegetarian', 4.50), \n",
    "(5, 1, 'Meat', 2.50), \n",
    "(5, 2, 'Meat', 4.20), \n",
    "(5, 3, 'Meat', 3.50), \n",
    "(6, 1, 'Vegan', 2.50), \n",
    "(6, 2, 'Vegan', 4.20), \n",
    "(6, 4, 'Vegan', 2.20), \n",
    "(6, 7, 'Vegan', 1.20), \n",
    "(6, 5, 'Vegan', 2.40), \n",
    "(7, 2, 'Meat', 4.20), \n",
    "(7, 7, 'Meat', 1.20), \n",
    "(8, 1, 'Meat', 2.50), \n",
    "(8, 2, 'Meat', 4.20), \n",
    "(8, 4, 'Meat', 2.20), \n",
    "(8, 5, 'Meat', 2.40);"
   ],
   "metadata": {
    "collapsed": false,
    "SqlCellData": {
     "data_source_name": "@localhost",
     "variableName$1": "df_sql21"
    },
    "ExecuteTime": {
     "end_time": "2024-10-01T08:36:06.649846300Z",
     "start_time": "2024-10-01T08:36:06.529839300Z"
    }
   },
   "id": "49f76d75aec705e8",
   "execution_count": 23
  },
  {
   "cell_type": "code",
   "outputs": [
    {
     "data": {
      "text/plain": "     PizzaID  IngridientID DietaryInfo  Price\n0          1             1  Vegetarian    NaN\n1          1             2  Vegetarian    NaN\n2          1             6  Vegetarian    NaN\n3          2             1        Meat    NaN\n4          2             2        Meat    NaN\n..       ...           ...         ...    ...\n140        7             7        Meat    NaN\n141        8             1        Meat    NaN\n142        8             2        Meat    NaN\n143        8             4        Meat    NaN\n144        8             5        Meat    NaN\n\n[145 rows x 4 columns]",
      "text/html": "<div>\n<style scoped>\n    .dataframe tbody tr th:only-of-type {\n        vertical-align: middle;\n    }\n\n    .dataframe tbody tr th {\n        vertical-align: top;\n    }\n\n    .dataframe thead th {\n        text-align: right;\n    }\n</style>\n<table border=\"1\" class=\"dataframe\">\n  <thead>\n    <tr style=\"text-align: right;\">\n      <th></th>\n      <th>PizzaID</th>\n      <th>IngridientID</th>\n      <th>DietaryInfo</th>\n      <th>Price</th>\n    </tr>\n  </thead>\n  <tbody>\n    <tr>\n      <th>0</th>\n      <td>1</td>\n      <td>1</td>\n      <td>Vegetarian</td>\n      <td>NaN</td>\n    </tr>\n    <tr>\n      <th>1</th>\n      <td>1</td>\n      <td>2</td>\n      <td>Vegetarian</td>\n      <td>NaN</td>\n    </tr>\n    <tr>\n      <th>2</th>\n      <td>1</td>\n      <td>6</td>\n      <td>Vegetarian</td>\n      <td>NaN</td>\n    </tr>\n    <tr>\n      <th>3</th>\n      <td>2</td>\n      <td>1</td>\n      <td>Meat</td>\n      <td>NaN</td>\n    </tr>\n    <tr>\n      <th>4</th>\n      <td>2</td>\n      <td>2</td>\n      <td>Meat</td>\n      <td>NaN</td>\n    </tr>\n    <tr>\n      <th>...</th>\n      <td>...</td>\n      <td>...</td>\n      <td>...</td>\n      <td>...</td>\n    </tr>\n    <tr>\n      <th>140</th>\n      <td>7</td>\n      <td>7</td>\n      <td>Meat</td>\n      <td>NaN</td>\n    </tr>\n    <tr>\n      <th>141</th>\n      <td>8</td>\n      <td>1</td>\n      <td>Meat</td>\n      <td>NaN</td>\n    </tr>\n    <tr>\n      <th>142</th>\n      <td>8</td>\n      <td>2</td>\n      <td>Meat</td>\n      <td>NaN</td>\n    </tr>\n    <tr>\n      <th>143</th>\n      <td>8</td>\n      <td>4</td>\n      <td>Meat</td>\n      <td>NaN</td>\n    </tr>\n    <tr>\n      <th>144</th>\n      <td>8</td>\n      <td>5</td>\n      <td>Meat</td>\n      <td>NaN</td>\n    </tr>\n  </tbody>\n</table>\n<p>145 rows × 4 columns</p>\n</div>"
     },
     "execution_count": 2,
     "metadata": {},
     "output_type": "execute_result"
    }
   ],
   "source": [
    "%%sql\n",
    "SELECT * FROM PizzaIngridients;"
   ],
   "metadata": {
    "collapsed": false,
    "SqlCellData": {
     "data_source_name": "@localhost",
     "variableName$1": "df_sql22"
    },
    "ExecuteTime": {
     "end_time": "2024-09-26T11:42:29.706045300Z",
     "start_time": "2024-09-26T11:42:28.408065200Z"
    }
   },
   "id": "b6f6897c6e3623fa",
   "execution_count": 2
  },
  {
   "cell_type": "code",
   "outputs": [
    {
     "data": {
      "text/plain": "    PizzaID                Name DietaryInfo  Price\n0         1          Margherita  Vegetarian    NaN\n1         2           Pepperoni        Meat    NaN\n2         3            Hawaiian        Meat    NaN\n3         4  Vegetarian Delight  Vegetarian    NaN\n4         5          Meat Lover        Meat    NaN\n..      ...                 ...         ...    ...\n85       88        Four Seasons       Vegan    NaN\n86       89   BBQ Chicken Pizza        Meat    NaN\n87       90         Capricciosa        Meat    NaN\n88       91       Mexican Pizza        Meat    NaN\n89       92       Supreme Pizza        Meat    NaN\n\n[90 rows x 4 columns]",
      "text/html": "<div>\n<style scoped>\n    .dataframe tbody tr th:only-of-type {\n        vertical-align: middle;\n    }\n\n    .dataframe tbody tr th {\n        vertical-align: top;\n    }\n\n    .dataframe thead th {\n        text-align: right;\n    }\n</style>\n<table border=\"1\" class=\"dataframe\">\n  <thead>\n    <tr style=\"text-align: right;\">\n      <th></th>\n      <th>PizzaID</th>\n      <th>Name</th>\n      <th>DietaryInfo</th>\n      <th>Price</th>\n    </tr>\n  </thead>\n  <tbody>\n    <tr>\n      <th>0</th>\n      <td>1</td>\n      <td>Margherita</td>\n      <td>Vegetarian</td>\n      <td>NaN</td>\n    </tr>\n    <tr>\n      <th>1</th>\n      <td>2</td>\n      <td>Pepperoni</td>\n      <td>Meat</td>\n      <td>NaN</td>\n    </tr>\n    <tr>\n      <th>2</th>\n      <td>3</td>\n      <td>Hawaiian</td>\n      <td>Meat</td>\n      <td>NaN</td>\n    </tr>\n    <tr>\n      <th>3</th>\n      <td>4</td>\n      <td>Vegetarian Delight</td>\n      <td>Vegetarian</td>\n      <td>NaN</td>\n    </tr>\n    <tr>\n      <th>4</th>\n      <td>5</td>\n      <td>Meat Lover</td>\n      <td>Meat</td>\n      <td>NaN</td>\n    </tr>\n    <tr>\n      <th>...</th>\n      <td>...</td>\n      <td>...</td>\n      <td>...</td>\n      <td>...</td>\n    </tr>\n    <tr>\n      <th>85</th>\n      <td>88</td>\n      <td>Four Seasons</td>\n      <td>Vegan</td>\n      <td>NaN</td>\n    </tr>\n    <tr>\n      <th>86</th>\n      <td>89</td>\n      <td>BBQ Chicken Pizza</td>\n      <td>Meat</td>\n      <td>NaN</td>\n    </tr>\n    <tr>\n      <th>87</th>\n      <td>90</td>\n      <td>Capricciosa</td>\n      <td>Meat</td>\n      <td>NaN</td>\n    </tr>\n    <tr>\n      <th>88</th>\n      <td>91</td>\n      <td>Mexican Pizza</td>\n      <td>Meat</td>\n      <td>NaN</td>\n    </tr>\n    <tr>\n      <th>89</th>\n      <td>92</td>\n      <td>Supreme Pizza</td>\n      <td>Meat</td>\n      <td>NaN</td>\n    </tr>\n  </tbody>\n</table>\n<p>90 rows × 4 columns</p>\n</div>"
     },
     "execution_count": 7,
     "metadata": {},
     "output_type": "execute_result"
    }
   ],
   "source": [
    "%%sql\n",
    "SELECT * FROM Pizza;\n"
   ],
   "metadata": {
    "collapsed": false,
    "SqlCellData": {
     "data_source_name": "@localhost",
     "variableName$1": "df_sql23"
    },
    "ExecuteTime": {
     "end_time": "2024-09-26T11:50:42.805064900Z",
     "start_time": "2024-09-26T11:50:42.660902800Z"
    }
   },
   "id": "39aa1ec47a7e5f97",
   "execution_count": 7
  },
  {
   "cell_type": "code",
   "outputs": [
    {
     "data": {
      "text/plain": "   Tables_in_project\n0          customers\n1           delivery\n2     deliveryperson\n3        ingredients\n4   logininformation\n5          menuitems\n6     menuitemsorder\n7          orderinfo\n8              pizza\n9   pizzaingredients\n10        pizzaorder",
      "text/html": "<div>\n<style scoped>\n    .dataframe tbody tr th:only-of-type {\n        vertical-align: middle;\n    }\n\n    .dataframe tbody tr th {\n        vertical-align: top;\n    }\n\n    .dataframe thead th {\n        text-align: right;\n    }\n</style>\n<table border=\"1\" class=\"dataframe\">\n  <thead>\n    <tr style=\"text-align: right;\">\n      <th></th>\n      <th>Tables_in_project</th>\n    </tr>\n  </thead>\n  <tbody>\n    <tr>\n      <th>0</th>\n      <td>customers</td>\n    </tr>\n    <tr>\n      <th>1</th>\n      <td>delivery</td>\n    </tr>\n    <tr>\n      <th>2</th>\n      <td>deliveryperson</td>\n    </tr>\n    <tr>\n      <th>3</th>\n      <td>ingredients</td>\n    </tr>\n    <tr>\n      <th>4</th>\n      <td>logininformation</td>\n    </tr>\n    <tr>\n      <th>5</th>\n      <td>menuitems</td>\n    </tr>\n    <tr>\n      <th>6</th>\n      <td>menuitemsorder</td>\n    </tr>\n    <tr>\n      <th>7</th>\n      <td>orderinfo</td>\n    </tr>\n    <tr>\n      <th>8</th>\n      <td>pizza</td>\n    </tr>\n    <tr>\n      <th>9</th>\n      <td>pizzaingredients</td>\n    </tr>\n    <tr>\n      <th>10</th>\n      <td>pizzaorder</td>\n    </tr>\n  </tbody>\n</table>\n</div>"
     },
     "execution_count": 12,
     "metadata": {},
     "output_type": "execute_result"
    }
   ],
   "source": [
    "%%sql\n",
    "SHOW TABLES;"
   ],
   "metadata": {
    "collapsed": false,
    "SqlCellData": {
     "data_source_name": "@localhost",
     "variableName$1": "df_sql24"
    },
    "ExecuteTime": {
     "end_time": "2024-09-26T12:02:40.991444500Z",
     "start_time": "2024-09-26T12:02:40.880875Z"
    }
   },
   "id": "56e8dffad9a7affc",
   "execution_count": 12
  },
  {
   "cell_type": "code",
   "outputs": [
    {
     "data": {
      "text/plain": "Empty DataFrame\nColumns: [OrderNumber, CustomerID, Date, Time, Price]\nIndex: []",
      "text/html": "<div>\n<style scoped>\n    .dataframe tbody tr th:only-of-type {\n        vertical-align: middle;\n    }\n\n    .dataframe tbody tr th {\n        vertical-align: top;\n    }\n\n    .dataframe thead th {\n        text-align: right;\n    }\n</style>\n<table border=\"1\" class=\"dataframe\">\n  <thead>\n    <tr style=\"text-align: right;\">\n      <th></th>\n      <th>OrderNumber</th>\n      <th>CustomerID</th>\n      <th>Date</th>\n      <th>Time</th>\n      <th>Price</th>\n    </tr>\n  </thead>\n  <tbody>\n  </tbody>\n</table>\n</div>"
     },
     "execution_count": 26,
     "metadata": {},
     "output_type": "execute_result"
    }
   ],
   "source": [
    "%%sql\n",
    "SELECT * FROM Ingredients;"
   ],
   "metadata": {
    "collapsed": false,
    "SqlCellData": {
     "data_source_name": "@localhost",
     "variableName$1": "df_sql37"
    },
    "ExecuteTime": {
     "end_time": "2024-10-01T12:42:20.255818600Z",
     "start_time": "2024-10-01T12:42:20.143607300Z"
    }
   },
   "id": "e81abb9feaec675f",
   "execution_count": 26
  },
  {
   "cell_type": "code",
   "outputs": [],
   "source": [
    "%%sql\n",
    "DELETE FROM Pizza\n",
    "WHERE PizzaID = 9;\n"
   ],
   "metadata": {
    "collapsed": false,
    "SqlCellData": {
     "data_source_name": "@localhost",
     "variableName$1": "df_sql25"
    },
    "ExecuteTime": {
     "end_time": "2024-09-26T11:50:34.600304Z",
     "start_time": "2024-09-26T11:50:34.528147800Z"
    }
   },
   "id": "750eb448dc34df14",
   "execution_count": 6
  },
  {
   "cell_type": "code",
   "outputs": [],
   "source": [
    "%%sql\n",
    "DROP TABLE PizzaIngridients;"
   ],
   "metadata": {
    "collapsed": false,
    "SqlCellData": {
     "data_source_name": "@localhost",
     "variableName$1": "df_sql27"
    },
    "ExecuteTime": {
     "end_time": "2024-09-26T11:56:42.346337Z",
     "start_time": "2024-09-26T11:56:42.284332500Z"
    }
   },
   "id": "a8f93a8ec44c2906",
   "execution_count": 8
  },
  {
   "cell_type": "code",
   "outputs": [],
   "source": [
    "%%sql\n",
    "DROP TABLE Ingridients;"
   ],
   "metadata": {
    "collapsed": false,
    "SqlCellData": {
     "data_source_name": "@localhost",
     "variableName$1": "df_sql28"
    },
    "ExecuteTime": {
     "end_time": "2024-09-26T11:56:55.573517Z",
     "start_time": "2024-09-26T11:56:55.512510600Z"
    }
   },
   "id": "e593855e3635ad62"
  },
  {
   "cell_type": "code",
   "outputs": [],
   "source": [
    "%%sql\n",
    "DROP TABLE PizzaOrder;"
   ],
   "metadata": {
    "collapsed": false,
    "SqlCellData": {
     "data_source_name": "@localhost",
     "variableName$1": "df_sql29"
    },
    "ExecuteTime": {
     "end_time": "2024-09-26T11:57:54.531145700Z",
     "start_time": "2024-09-26T11:57:54.469143600Z"
    }
   },
   "id": "c00bc863705bd28d",
   "execution_count": 9
  },
  {
   "cell_type": "code",
   "outputs": [],
   "source": [
    "%%sql\n",
    "DROP TABLE Pizza;"
   ],
   "metadata": {
    "collapsed": false,
    "SqlCellData": {
     "data_source_name": "@localhost",
     "variableName$1": "df_sql30"
    },
    "ExecuteTime": {
     "end_time": "2024-09-26T11:58:03.946419300Z",
     "start_time": "2024-09-26T11:58:03.891421Z"
    }
   },
   "id": "b3598851c6463be5"
  },
  {
   "cell_type": "code",
   "outputs": [],
   "source": [
    "%%sql\n",
    "ALTER TABLE Pizza DROP COLUMN Price;\n"
   ],
   "metadata": {
    "collapsed": false,
    "SqlCellData": {
     "data_source_name": "@localhost",
     "variableName$1": "df_sql32"
    },
    "ExecuteTime": {
     "end_time": "2024-09-29T13:58:59.818386200Z",
     "start_time": "2024-09-29T13:58:59.696375300Z"
    }
   },
   "id": "90d7b960682b96d9"
  },
  {
   "cell_type": "code",
   "outputs": [],
   "source": [
    "%%sql\n",
    "ALTER TABLE Pizza ADD COLUMN Price DOUBLE;"
   ],
   "metadata": {
    "collapsed": false,
    "SqlCellData": {
     "data_source_name": "@localhost",
     "variableName$1": "df_sql34"
    },
    "ExecuteTime": {
     "end_time": "2024-10-01T08:52:23.638878700Z",
     "start_time": "2024-10-01T08:52:23.539865900Z"
    }
   },
   "id": "611c85a333f3d7cd"
  },
  {
   "cell_type": "code",
   "outputs": [
    {
     "data": {
      "text/plain": "   PizzaID                Name DietaryInfo    Price\n0        1          Margherita  Vegetarian  12.6658\n1        2           Pepperoni        Meat  15.5652\n2        3            Hawaiian        Meat  18.1594\n3        4  Vegetarian Delight  Vegetarian  22.2796\n4        5          Meat Lover        Meat  15.5652\n5        6        Four Seasons       Vegan  19.0750\n6        7   BBQ Chicken Pizza        Meat   8.2404\n7        8         Capricciosa        Meat  17.2438\n8        9       Mexican Pizza        Meat  15.5652\n9       10       Supreme Pizza        Meat  14.1918",
      "text/html": "<div>\n<style scoped>\n    .dataframe tbody tr th:only-of-type {\n        vertical-align: middle;\n    }\n\n    .dataframe tbody tr th {\n        vertical-align: top;\n    }\n\n    .dataframe thead th {\n        text-align: right;\n    }\n</style>\n<table border=\"1\" class=\"dataframe\">\n  <thead>\n    <tr style=\"text-align: right;\">\n      <th></th>\n      <th>PizzaID</th>\n      <th>Name</th>\n      <th>DietaryInfo</th>\n      <th>Price</th>\n    </tr>\n  </thead>\n  <tbody>\n    <tr>\n      <th>0</th>\n      <td>1</td>\n      <td>Margherita</td>\n      <td>Vegetarian</td>\n      <td>12.6658</td>\n    </tr>\n    <tr>\n      <th>1</th>\n      <td>2</td>\n      <td>Pepperoni</td>\n      <td>Meat</td>\n      <td>15.5652</td>\n    </tr>\n    <tr>\n      <th>2</th>\n      <td>3</td>\n      <td>Hawaiian</td>\n      <td>Meat</td>\n      <td>18.1594</td>\n    </tr>\n    <tr>\n      <th>3</th>\n      <td>4</td>\n      <td>Vegetarian Delight</td>\n      <td>Vegetarian</td>\n      <td>22.2796</td>\n    </tr>\n    <tr>\n      <th>4</th>\n      <td>5</td>\n      <td>Meat Lover</td>\n      <td>Meat</td>\n      <td>15.5652</td>\n    </tr>\n    <tr>\n      <th>5</th>\n      <td>6</td>\n      <td>Four Seasons</td>\n      <td>Vegan</td>\n      <td>19.0750</td>\n    </tr>\n    <tr>\n      <th>6</th>\n      <td>7</td>\n      <td>BBQ Chicken Pizza</td>\n      <td>Meat</td>\n      <td>8.2404</td>\n    </tr>\n    <tr>\n      <th>7</th>\n      <td>8</td>\n      <td>Capricciosa</td>\n      <td>Meat</td>\n      <td>17.2438</td>\n    </tr>\n    <tr>\n      <th>8</th>\n      <td>9</td>\n      <td>Mexican Pizza</td>\n      <td>Meat</td>\n      <td>15.5652</td>\n    </tr>\n    <tr>\n      <th>9</th>\n      <td>10</td>\n      <td>Supreme Pizza</td>\n      <td>Meat</td>\n      <td>14.1918</td>\n    </tr>\n  </tbody>\n</table>\n</div>"
     },
     "execution_count": 24,
     "metadata": {},
     "output_type": "execute_result"
    }
   ],
   "source": [
    "%%sql\n",
    "SELECT * FROM Pizza;"
   ],
   "metadata": {
    "collapsed": false,
    "SqlCellData": {
     "data_source_name": "@localhost",
     "variableName$1": "df_sql35"
    },
    "ExecuteTime": {
     "end_time": "2024-10-01T12:33:23.912079700Z",
     "start_time": "2024-10-01T12:33:23.802338900Z"
    }
   },
   "id": "2a86a7dd747b22ff",
   "execution_count": 24
  },
  {
   "cell_type": "code",
   "outputs": [],
   "source": [
    "%%sql\n",
    "INSERT INTO PizzaIngredients (PizzaID, IngredientID, DietaryInfo, Price) VALUES \n",
    "(10, 2, 'Vegetarian', 4.20), \n",
    "(10, 6, 'Vegetarian', 1.60), \n",
    "(10, 3, 'Meat', 3.50), \n",
    "(9, 2, 'Meat', 4.20), \n",
    "(9, 3, 'Meat', 3.50), \n",
    "(9, 1, 'Meat', 2.50)                                            "
   ],
   "metadata": {
    "collapsed": false,
    "SqlCellData": {
     "data_source_name": "@localhost",
     "variableName$1": "df_sql36"
    },
    "ExecuteTime": {
     "end_time": "2024-10-01T10:59:14.226891300Z",
     "start_time": "2024-10-01T10:59:14.175889400Z"
    }
   },
   "id": "899b5fd2f23e0e08"
  },
  {
   "cell_type": "code",
   "outputs": [],
   "source": [
    "%%sql\n",
    "INSERT INTO MenuItems (Name, Price) VALUES ('Coca-Cola Oreo', 2.30),\n",
    "                                           ('Beer', 5.00),\n",
    "                                           ('Lemonade', 3.40),\n",
    "                                           ('Fanta', 2.00),\n",
    "                                           ('Ice cream', 4.50),\n",
    "                                           ('Cheesecake', 5.10);\n",
    "                                           "
   ],
   "metadata": {
    "collapsed": false,
    "SqlCellData": {
     "data_source_name": "@localhost",
     "variableName$1": "df_sql38"
    },
    "ExecuteTime": {
     "end_time": "2024-10-01T12:47:03.485751Z",
     "start_time": "2024-10-01T12:47:03.404747800Z"
    }
   },
   "id": "2b277f32cafbcc45"
  },
  {
   "cell_type": "code",
   "outputs": [
    {
     "data": {
      "text/plain": "    CustomerID              Name  Gender                              Address  \\\n0            1    Denisa Nastasa  Female              Mathijs Heugenstraat 15   \n1            2    Denisa Nastasa  Female              Mathijs Heugenstraat 15   \n2            3    Denisa Nastasa  Female              Mathijs Heugenstraat 15   \n3            4    Denisa Nastasa  Female  Mathijs Heugenstraat 15, Maastricht   \n4            5       Tom Janssen    Male        Frankenstraat 112, Maastricht   \n5            6      Emma de Jong  Female      Sint Pieterstraat 7, Maastricht   \n6            7     Lars van Dijk    Male        Stationsstraat 12, Maastricht   \n7            8  Sophie Vermeulen  Female             Céramique 25, Maastricht   \n8            9    Denisa Nastasa  Female  Mathijs Heugenstraat 15, Maastricht   \n9           10              Luca    Male                              Mathijs   \n10          11              Cris  Female                           Maastricht   \n11          12              Emma  Female                                acasa   \n12          13            Denisa  Female                                acasa   \n13          14              Emma   Femal                                 aici   \n14          15               Ana  Female                                 aici   \n15          16             Maria  Female                                    S   \n16          17             Mihai  Female                                    S   \n\n     Birthdate      Phone  \n0   2004-09-20  758563220  \n1   2004-09-20  758563220  \n2   2004-09-20  758563220  \n3   2004-09-20  758563220  \n4   1993-04-15  612345678  \n5   1989-02-22  687654321  \n6   2000-11-30  610987654  \n7   1995-07-07  623456789  \n8   2004-09-20  758563220  \n9   2004-07-22    1232343  \n10  2004-12-14        123  \n11  2005-01-09  752905734  \n12  2004-10-04    3982984  \n13  2005-10-07      65364  \n14  2004-10-07       6327  \n15  2004-05-01       3424  \n16  2004-09-09        123  ",
      "text/html": "<div>\n<style scoped>\n    .dataframe tbody tr th:only-of-type {\n        vertical-align: middle;\n    }\n\n    .dataframe tbody tr th {\n        vertical-align: top;\n    }\n\n    .dataframe thead th {\n        text-align: right;\n    }\n</style>\n<table border=\"1\" class=\"dataframe\">\n  <thead>\n    <tr style=\"text-align: right;\">\n      <th></th>\n      <th>CustomerID</th>\n      <th>Name</th>\n      <th>Gender</th>\n      <th>Address</th>\n      <th>Birthdate</th>\n      <th>Phone</th>\n    </tr>\n  </thead>\n  <tbody>\n    <tr>\n      <th>0</th>\n      <td>1</td>\n      <td>Denisa Nastasa</td>\n      <td>Female</td>\n      <td>Mathijs Heugenstraat 15</td>\n      <td>2004-09-20</td>\n      <td>758563220</td>\n    </tr>\n    <tr>\n      <th>1</th>\n      <td>2</td>\n      <td>Denisa Nastasa</td>\n      <td>Female</td>\n      <td>Mathijs Heugenstraat 15</td>\n      <td>2004-09-20</td>\n      <td>758563220</td>\n    </tr>\n    <tr>\n      <th>2</th>\n      <td>3</td>\n      <td>Denisa Nastasa</td>\n      <td>Female</td>\n      <td>Mathijs Heugenstraat 15</td>\n      <td>2004-09-20</td>\n      <td>758563220</td>\n    </tr>\n    <tr>\n      <th>3</th>\n      <td>4</td>\n      <td>Denisa Nastasa</td>\n      <td>Female</td>\n      <td>Mathijs Heugenstraat 15, Maastricht</td>\n      <td>2004-09-20</td>\n      <td>758563220</td>\n    </tr>\n    <tr>\n      <th>4</th>\n      <td>5</td>\n      <td>Tom Janssen</td>\n      <td>Male</td>\n      <td>Frankenstraat 112, Maastricht</td>\n      <td>1993-04-15</td>\n      <td>612345678</td>\n    </tr>\n    <tr>\n      <th>5</th>\n      <td>6</td>\n      <td>Emma de Jong</td>\n      <td>Female</td>\n      <td>Sint Pieterstraat 7, Maastricht</td>\n      <td>1989-02-22</td>\n      <td>687654321</td>\n    </tr>\n    <tr>\n      <th>6</th>\n      <td>7</td>\n      <td>Lars van Dijk</td>\n      <td>Male</td>\n      <td>Stationsstraat 12, Maastricht</td>\n      <td>2000-11-30</td>\n      <td>610987654</td>\n    </tr>\n    <tr>\n      <th>7</th>\n      <td>8</td>\n      <td>Sophie Vermeulen</td>\n      <td>Female</td>\n      <td>Céramique 25, Maastricht</td>\n      <td>1995-07-07</td>\n      <td>623456789</td>\n    </tr>\n    <tr>\n      <th>8</th>\n      <td>9</td>\n      <td>Denisa Nastasa</td>\n      <td>Female</td>\n      <td>Mathijs Heugenstraat 15, Maastricht</td>\n      <td>2004-09-20</td>\n      <td>758563220</td>\n    </tr>\n    <tr>\n      <th>9</th>\n      <td>10</td>\n      <td>Luca</td>\n      <td>Male</td>\n      <td>Mathijs</td>\n      <td>2004-07-22</td>\n      <td>1232343</td>\n    </tr>\n    <tr>\n      <th>10</th>\n      <td>11</td>\n      <td>Cris</td>\n      <td>Female</td>\n      <td>Maastricht</td>\n      <td>2004-12-14</td>\n      <td>123</td>\n    </tr>\n    <tr>\n      <th>11</th>\n      <td>12</td>\n      <td>Emma</td>\n      <td>Female</td>\n      <td>acasa</td>\n      <td>2005-01-09</td>\n      <td>752905734</td>\n    </tr>\n    <tr>\n      <th>12</th>\n      <td>13</td>\n      <td>Denisa</td>\n      <td>Female</td>\n      <td>acasa</td>\n      <td>2004-10-04</td>\n      <td>3982984</td>\n    </tr>\n    <tr>\n      <th>13</th>\n      <td>14</td>\n      <td>Emma</td>\n      <td>Femal</td>\n      <td>aici</td>\n      <td>2005-10-07</td>\n      <td>65364</td>\n    </tr>\n    <tr>\n      <th>14</th>\n      <td>15</td>\n      <td>Ana</td>\n      <td>Female</td>\n      <td>aici</td>\n      <td>2004-10-07</td>\n      <td>6327</td>\n    </tr>\n    <tr>\n      <th>15</th>\n      <td>16</td>\n      <td>Maria</td>\n      <td>Female</td>\n      <td>S</td>\n      <td>2004-05-01</td>\n      <td>3424</td>\n    </tr>\n    <tr>\n      <th>16</th>\n      <td>17</td>\n      <td>Mihai</td>\n      <td>Female</td>\n      <td>S</td>\n      <td>2004-09-09</td>\n      <td>123</td>\n    </tr>\n  </tbody>\n</table>\n</div>"
     },
     "execution_count": 31,
     "metadata": {},
     "output_type": "execute_result"
    }
   ],
   "source": [
    "%%sql\n",
    "SELECT * FROM Customers;"
   ],
   "metadata": {
    "collapsed": false,
    "SqlCellData": {
     "data_source_name": "@localhost",
     "variableName$1": "df_sql39"
    },
    "ExecuteTime": {
     "end_time": "2024-10-07T14:06:12.694902400Z",
     "start_time": "2024-10-07T14:06:12.581509600Z"
    }
   },
   "id": "23f9bdca9c12fa94",
   "execution_count": 31
  },
  {
   "cell_type": "code",
   "outputs": [],
   "source": [
    "%%sql\n",
    "CREATE TABLE OrderPrice(\n",
    "    `OrderNumber` INTEGER ,\n",
    "    `Price` Float,\n",
    "    FOREIGN KEY (`OrderNumber`) REFERENCES OrderInfo(`OrderNumber`)\n",
    "    ON DELETE CASCADE\n",
    "    ON UPDATE CASCADE\n",
    ");"
   ],
   "metadata": {
    "collapsed": false,
    "SqlCellData": {
     "data_source_name": "@localhost",
     "variableName$1": "df_sql40"
    },
    "ExecuteTime": {
     "end_time": "2024-10-04T08:32:20.459499700Z",
     "start_time": "2024-10-04T08:32:20.372496400Z"
    }
   },
   "id": "ddc75d0d5c9cc28"
  },
  {
   "cell_type": "code",
   "outputs": [],
   "source": [
    "%%sql\n",
    "ALTER TABLE OrderInfo DROP COLUMN Price;\n"
   ],
   "metadata": {
    "collapsed": false,
    "SqlCellData": {
     "data_source_name": "@localhost",
     "variableName$1": "df_sql41"
    },
    "ExecuteTime": {
     "end_time": "2024-10-04T08:32:14.292026600Z",
     "start_time": "2024-10-04T08:32:14.156022Z"
    }
   },
   "id": "f2f0ec739ad985f9",
   "execution_count": 2
  },
  {
   "cell_type": "code",
   "outputs": [
    {
     "data": {
      "text/plain": "    DeliveryID AssignedArea Availability\n0            1            N  Unavailable\n1            2           NE    Available\n2            3            E    Available\n3            4           SE    Available\n4            5            S  Unavailable\n5            6           SW    Available\n6            7            W    Available\n7            8           NW    Available\n8            9            C    Available\n9           10            N  Unavailable\n10          11           NE    Available\n11          12            E    Available\n12          13           SE    Available\n13          14            S    Available\n14          15           SW    Available\n15          16            W    Available\n16          17           NW    Available\n17          18            C    Available",
      "text/html": "<div>\n<style scoped>\n    .dataframe tbody tr th:only-of-type {\n        vertical-align: middle;\n    }\n\n    .dataframe tbody tr th {\n        vertical-align: top;\n    }\n\n    .dataframe thead th {\n        text-align: right;\n    }\n</style>\n<table border=\"1\" class=\"dataframe\">\n  <thead>\n    <tr style=\"text-align: right;\">\n      <th></th>\n      <th>DeliveryID</th>\n      <th>AssignedArea</th>\n      <th>Availability</th>\n    </tr>\n  </thead>\n  <tbody>\n    <tr>\n      <th>0</th>\n      <td>1</td>\n      <td>N</td>\n      <td>Unavailable</td>\n    </tr>\n    <tr>\n      <th>1</th>\n      <td>2</td>\n      <td>NE</td>\n      <td>Available</td>\n    </tr>\n    <tr>\n      <th>2</th>\n      <td>3</td>\n      <td>E</td>\n      <td>Available</td>\n    </tr>\n    <tr>\n      <th>3</th>\n      <td>4</td>\n      <td>SE</td>\n      <td>Available</td>\n    </tr>\n    <tr>\n      <th>4</th>\n      <td>5</td>\n      <td>S</td>\n      <td>Unavailable</td>\n    </tr>\n    <tr>\n      <th>5</th>\n      <td>6</td>\n      <td>SW</td>\n      <td>Available</td>\n    </tr>\n    <tr>\n      <th>6</th>\n      <td>7</td>\n      <td>W</td>\n      <td>Available</td>\n    </tr>\n    <tr>\n      <th>7</th>\n      <td>8</td>\n      <td>NW</td>\n      <td>Available</td>\n    </tr>\n    <tr>\n      <th>8</th>\n      <td>9</td>\n      <td>C</td>\n      <td>Available</td>\n    </tr>\n    <tr>\n      <th>9</th>\n      <td>10</td>\n      <td>N</td>\n      <td>Unavailable</td>\n    </tr>\n    <tr>\n      <th>10</th>\n      <td>11</td>\n      <td>NE</td>\n      <td>Available</td>\n    </tr>\n    <tr>\n      <th>11</th>\n      <td>12</td>\n      <td>E</td>\n      <td>Available</td>\n    </tr>\n    <tr>\n      <th>12</th>\n      <td>13</td>\n      <td>SE</td>\n      <td>Available</td>\n    </tr>\n    <tr>\n      <th>13</th>\n      <td>14</td>\n      <td>S</td>\n      <td>Available</td>\n    </tr>\n    <tr>\n      <th>14</th>\n      <td>15</td>\n      <td>SW</td>\n      <td>Available</td>\n    </tr>\n    <tr>\n      <th>15</th>\n      <td>16</td>\n      <td>W</td>\n      <td>Available</td>\n    </tr>\n    <tr>\n      <th>16</th>\n      <td>17</td>\n      <td>NW</td>\n      <td>Available</td>\n    </tr>\n    <tr>\n      <th>17</th>\n      <td>18</td>\n      <td>C</td>\n      <td>Available</td>\n    </tr>\n  </tbody>\n</table>\n</div>"
     },
     "execution_count": 33,
     "metadata": {},
     "output_type": "execute_result"
    }
   ],
   "source": [
    "%%sql\n",
    "SELECT * FROM DeliveryPerson;"
   ],
   "metadata": {
    "collapsed": false,
    "SqlCellData": {
     "data_source_name": "@localhost",
     "variableName$1": "df_sql42"
    },
    "ExecuteTime": {
     "end_time": "2024-10-07T14:11:57.217305300Z",
     "start_time": "2024-10-07T14:11:57.079784300Z"
    }
   },
   "id": "a9f2cbe601bded90",
   "execution_count": 33
  },
  {
   "cell_type": "code",
   "outputs": [
    {
     "data": {
      "text/plain": "   OrderNumber    Price\n0           36  55.3690\n1           41  18.1594\n2           42  20.5652\n3           45  31.4356\n4           48  20.5652\n5           49   0.0000\n6           50   0.0000\n7           51  16.0787",
      "text/html": "<div>\n<style scoped>\n    .dataframe tbody tr th:only-of-type {\n        vertical-align: middle;\n    }\n\n    .dataframe tbody tr th {\n        vertical-align: top;\n    }\n\n    .dataframe thead th {\n        text-align: right;\n    }\n</style>\n<table border=\"1\" class=\"dataframe\">\n  <thead>\n    <tr style=\"text-align: right;\">\n      <th></th>\n      <th>OrderNumber</th>\n      <th>Price</th>\n    </tr>\n  </thead>\n  <tbody>\n    <tr>\n      <th>0</th>\n      <td>36</td>\n      <td>55.3690</td>\n    </tr>\n    <tr>\n      <th>1</th>\n      <td>41</td>\n      <td>18.1594</td>\n    </tr>\n    <tr>\n      <th>2</th>\n      <td>42</td>\n      <td>20.5652</td>\n    </tr>\n    <tr>\n      <th>3</th>\n      <td>45</td>\n      <td>31.4356</td>\n    </tr>\n    <tr>\n      <th>4</th>\n      <td>48</td>\n      <td>20.5652</td>\n    </tr>\n    <tr>\n      <th>5</th>\n      <td>49</td>\n      <td>0.0000</td>\n    </tr>\n    <tr>\n      <th>6</th>\n      <td>50</td>\n      <td>0.0000</td>\n    </tr>\n    <tr>\n      <th>7</th>\n      <td>51</td>\n      <td>16.0787</td>\n    </tr>\n  </tbody>\n</table>\n</div>"
     },
     "execution_count": 3,
     "metadata": {},
     "output_type": "execute_result"
    }
   ],
   "source": [
    "%%sql\n",
    "SELECT * FROM OrderPrice;"
   ],
   "metadata": {
    "collapsed": false,
    "SqlCellData": {
     "data_source_name": "@localhost",
     "variableName$1": "df_sql43"
    },
    "ExecuteTime": {
     "end_time": "2024-10-07T07:51:12.280413900Z",
     "start_time": "2024-10-07T07:51:12.025304400Z"
    }
   },
   "id": "effc9bf22dc92140",
   "execution_count": 3
  },
  {
   "cell_type": "code",
   "outputs": [],
   "source": [
    "%%sql\n",
    "CREATE TABLE Adress(ID INTEGER PRIMARY KEY AUTO_INCREMENT, Zone VARCHAR(255), Time TIME);"
   ],
   "metadata": {
    "collapsed": false,
    "SqlCellData": {
     "data_source_name": "@localhost",
     "variableName$1": "df_sql44"
    },
    "ExecuteTime": {
     "end_time": "2024-10-07T09:28:30.031336600Z",
     "start_time": "2024-10-07T09:28:29.809324300Z"
    }
   },
   "id": "4f9aa63a773104dd"
  },
  {
   "cell_type": "code",
   "outputs": [],
   "source": [
    "%%sql\n",
    "INSERT INTO Adress(Zone, Time) VALUES ('N', '00:25:00'),\n",
    "                                      ('NE', '00:30:00'),\n",
    "                                      ('E', '00:35:00'),\n",
    "                                      ('SE', '00:45:00'),\n",
    "                                      ('S', '00:40:00'),\n",
    "                                      ('SW', '00:45:00'),\n",
    "                                      ('W', '00:35:00'),\n",
    "                                      ('NW', '00:30:00'),\n",
    "                                      ('C', '00:30:00');"
   ],
   "metadata": {
    "collapsed": false,
    "SqlCellData": {
     "data_source_name": "@localhost",
     "variableName$1": "df_sql45"
    },
    "ExecuteTime": {
     "end_time": "2024-10-07T09:31:03.471183500Z",
     "start_time": "2024-10-07T09:31:03.330174900Z"
    }
   },
   "id": "782f8a3a0c15a896"
  },
  {
   "cell_type": "code",
   "outputs": [
    {
     "data": {
      "text/plain": "   ID Zone      Time\n0   1    N  00:25:00\n1   2   NE  00:30:00\n2   3    E  00:35:00\n3   4   SE  00:45:00\n4   5    S  00:40:00\n5   6   SW  00:45:00\n6   7    W  00:35:00\n7   8   NW  00:30:00\n8   9    C  00:30:00",
      "text/html": "<div>\n<style scoped>\n    .dataframe tbody tr th:only-of-type {\n        vertical-align: middle;\n    }\n\n    .dataframe tbody tr th {\n        vertical-align: top;\n    }\n\n    .dataframe thead th {\n        text-align: right;\n    }\n</style>\n<table border=\"1\" class=\"dataframe\">\n  <thead>\n    <tr style=\"text-align: right;\">\n      <th></th>\n      <th>ID</th>\n      <th>Zone</th>\n      <th>Time</th>\n    </tr>\n  </thead>\n  <tbody>\n    <tr>\n      <th>0</th>\n      <td>1</td>\n      <td>N</td>\n      <td>00:25:00</td>\n    </tr>\n    <tr>\n      <th>1</th>\n      <td>2</td>\n      <td>NE</td>\n      <td>00:30:00</td>\n    </tr>\n    <tr>\n      <th>2</th>\n      <td>3</td>\n      <td>E</td>\n      <td>00:35:00</td>\n    </tr>\n    <tr>\n      <th>3</th>\n      <td>4</td>\n      <td>SE</td>\n      <td>00:45:00</td>\n    </tr>\n    <tr>\n      <th>4</th>\n      <td>5</td>\n      <td>S</td>\n      <td>00:40:00</td>\n    </tr>\n    <tr>\n      <th>5</th>\n      <td>6</td>\n      <td>SW</td>\n      <td>00:45:00</td>\n    </tr>\n    <tr>\n      <th>6</th>\n      <td>7</td>\n      <td>W</td>\n      <td>00:35:00</td>\n    </tr>\n    <tr>\n      <th>7</th>\n      <td>8</td>\n      <td>NW</td>\n      <td>00:30:00</td>\n    </tr>\n    <tr>\n      <th>8</th>\n      <td>9</td>\n      <td>C</td>\n      <td>00:30:00</td>\n    </tr>\n  </tbody>\n</table>\n</div>"
     },
     "execution_count": 4,
     "metadata": {},
     "output_type": "execute_result"
    }
   ],
   "source": [
    "%%sql\n",
    "SELECT * FROM Adress;"
   ],
   "metadata": {
    "collapsed": false,
    "SqlCellData": {
     "data_source_name": "@localhost",
     "variableName$1": "df_sql46"
    },
    "ExecuteTime": {
     "end_time": "2024-10-07T09:31:14.905333900Z",
     "start_time": "2024-10-07T09:31:14.580437800Z"
    }
   },
   "id": "9264edaafc6fb13",
   "execution_count": 4
  },
  {
   "cell_type": "code",
   "outputs": [],
   "source": [
    "%%sql\n",
    "CREATE TABLE OrderDeliveryTime(OrderNumber INTEGER,\n",
    "                                TimeDelivery TIME,\n",
    "                                FOREIGN KEY (`OrderNumber`) REFERENCES OrderInfo(`OrderNumber`)\n",
    "                                ON DELETE CASCADE\n",
    "                                ON UPDATE CASCADE);"
   ],
   "metadata": {
    "collapsed": false,
    "SqlCellData": {
     "data_source_name": "@localhost",
     "variableName$1": "df_sql47"
    },
    "ExecuteTime": {
     "end_time": "2024-10-07T09:59:53.112240700Z",
     "start_time": "2024-10-07T09:59:53.012234900Z"
    }
   },
   "id": "c4a9f46d30f84f8c",
   "execution_count": 5
  },
  {
   "cell_type": "code",
   "outputs": [
    {
     "data": {
      "text/plain": "    OrderNumber    Price\n0            36  55.3690\n1            41  18.1594\n2            42  20.5652\n3            45  31.4356\n4            48  20.5652\n5            49   0.0000\n6            50   0.0000\n7            51  16.0787\n8            52   4.5000\n9            53   4.5000\n10           54   4.5000\n11           55   0.0000\n12           59  29.3087\n13           60   0.0000\n14           61   0.0000\n15           84   0.0000",
      "text/html": "<div>\n<style scoped>\n    .dataframe tbody tr th:only-of-type {\n        vertical-align: middle;\n    }\n\n    .dataframe tbody tr th {\n        vertical-align: top;\n    }\n\n    .dataframe thead th {\n        text-align: right;\n    }\n</style>\n<table border=\"1\" class=\"dataframe\">\n  <thead>\n    <tr style=\"text-align: right;\">\n      <th></th>\n      <th>OrderNumber</th>\n      <th>Price</th>\n    </tr>\n  </thead>\n  <tbody>\n    <tr>\n      <th>0</th>\n      <td>36</td>\n      <td>55.3690</td>\n    </tr>\n    <tr>\n      <th>1</th>\n      <td>41</td>\n      <td>18.1594</td>\n    </tr>\n    <tr>\n      <th>2</th>\n      <td>42</td>\n      <td>20.5652</td>\n    </tr>\n    <tr>\n      <th>3</th>\n      <td>45</td>\n      <td>31.4356</td>\n    </tr>\n    <tr>\n      <th>4</th>\n      <td>48</td>\n      <td>20.5652</td>\n    </tr>\n    <tr>\n      <th>5</th>\n      <td>49</td>\n      <td>0.0000</td>\n    </tr>\n    <tr>\n      <th>6</th>\n      <td>50</td>\n      <td>0.0000</td>\n    </tr>\n    <tr>\n      <th>7</th>\n      <td>51</td>\n      <td>16.0787</td>\n    </tr>\n    <tr>\n      <th>8</th>\n      <td>52</td>\n      <td>4.5000</td>\n    </tr>\n    <tr>\n      <th>9</th>\n      <td>53</td>\n      <td>4.5000</td>\n    </tr>\n    <tr>\n      <th>10</th>\n      <td>54</td>\n      <td>4.5000</td>\n    </tr>\n    <tr>\n      <th>11</th>\n      <td>55</td>\n      <td>0.0000</td>\n    </tr>\n    <tr>\n      <th>12</th>\n      <td>59</td>\n      <td>29.3087</td>\n    </tr>\n    <tr>\n      <th>13</th>\n      <td>60</td>\n      <td>0.0000</td>\n    </tr>\n    <tr>\n      <th>14</th>\n      <td>61</td>\n      <td>0.0000</td>\n    </tr>\n    <tr>\n      <th>15</th>\n      <td>84</td>\n      <td>0.0000</td>\n    </tr>\n  </tbody>\n</table>\n</div>"
     },
     "execution_count": 19,
     "metadata": {},
     "output_type": "execute_result"
    }
   ],
   "source": [
    "%%sql\n",
    "SELECT * FROM OrderPrice;"
   ],
   "metadata": {
    "collapsed": false,
    "SqlCellData": {
     "data_source_name": "@localhost",
     "variableName$1": "df_sql48"
    },
    "ExecuteTime": {
     "end_time": "2024-10-07T12:35:29.935111400Z",
     "start_time": "2024-10-07T12:35:29.782171100Z"
    }
   },
   "id": "3df8ad253aa26bdf",
   "execution_count": 19
  },
  {
   "cell_type": "code",
   "outputs": [
    {
     "data": {
      "text/plain": "    OrderNumber  CustomerID        Date      Time\n0             1          10  2024-10-04  12:12:30\n1             2          12  2024-10-04  12:18:04\n2             3          10  2024-10-04  12:30:08\n3             4          10  2024-10-04  12:32:14\n4             5          10  2024-10-04  12:52:37\n..          ...         ...         ...       ...\n83           84          15  2024-10-07  14:26:04\n84           85          17  2024-10-07  14:27:40\n85           86          17  2024-10-07  14:30:10\n86           87          17  2024-10-07  14:31:09\n87           88          17  2024-10-07  14:34:28\n\n[88 rows x 4 columns]",
      "text/html": "<div>\n<style scoped>\n    .dataframe tbody tr th:only-of-type {\n        vertical-align: middle;\n    }\n\n    .dataframe tbody tr th {\n        vertical-align: top;\n    }\n\n    .dataframe thead th {\n        text-align: right;\n    }\n</style>\n<table border=\"1\" class=\"dataframe\">\n  <thead>\n    <tr style=\"text-align: right;\">\n      <th></th>\n      <th>OrderNumber</th>\n      <th>CustomerID</th>\n      <th>Date</th>\n      <th>Time</th>\n    </tr>\n  </thead>\n  <tbody>\n    <tr>\n      <th>0</th>\n      <td>1</td>\n      <td>10</td>\n      <td>2024-10-04</td>\n      <td>12:12:30</td>\n    </tr>\n    <tr>\n      <th>1</th>\n      <td>2</td>\n      <td>12</td>\n      <td>2024-10-04</td>\n      <td>12:18:04</td>\n    </tr>\n    <tr>\n      <th>2</th>\n      <td>3</td>\n      <td>10</td>\n      <td>2024-10-04</td>\n      <td>12:30:08</td>\n    </tr>\n    <tr>\n      <th>3</th>\n      <td>4</td>\n      <td>10</td>\n      <td>2024-10-04</td>\n      <td>12:32:14</td>\n    </tr>\n    <tr>\n      <th>4</th>\n      <td>5</td>\n      <td>10</td>\n      <td>2024-10-04</td>\n      <td>12:52:37</td>\n    </tr>\n    <tr>\n      <th>...</th>\n      <td>...</td>\n      <td>...</td>\n      <td>...</td>\n      <td>...</td>\n    </tr>\n    <tr>\n      <th>83</th>\n      <td>84</td>\n      <td>15</td>\n      <td>2024-10-07</td>\n      <td>14:26:04</td>\n    </tr>\n    <tr>\n      <th>84</th>\n      <td>85</td>\n      <td>17</td>\n      <td>2024-10-07</td>\n      <td>14:27:40</td>\n    </tr>\n    <tr>\n      <th>85</th>\n      <td>86</td>\n      <td>17</td>\n      <td>2024-10-07</td>\n      <td>14:30:10</td>\n    </tr>\n    <tr>\n      <th>86</th>\n      <td>87</td>\n      <td>17</td>\n      <td>2024-10-07</td>\n      <td>14:31:09</td>\n    </tr>\n    <tr>\n      <th>87</th>\n      <td>88</td>\n      <td>17</td>\n      <td>2024-10-07</td>\n      <td>14:34:28</td>\n    </tr>\n  </tbody>\n</table>\n<p>88 rows × 4 columns</p>\n</div>"
     },
     "execution_count": 17,
     "metadata": {},
     "output_type": "execute_result"
    }
   ],
   "source": [
    "%%sql\n",
    "SELECT * FROM OrderInfo;"
   ],
   "metadata": {
    "collapsed": false,
    "SqlCellData": {
     "data_source_name": "@localhost",
     "variableName$1": "df_sql49"
    },
    "ExecuteTime": {
     "end_time": "2024-10-07T12:34:45.342880100Z",
     "start_time": "2024-10-07T12:34:45.236523600Z"
    }
   },
   "id": "3bcc19c4752eb03e",
   "execution_count": 17
  },
  {
   "cell_type": "code",
   "outputs": [
    {
     "data": {
      "text/plain": "Empty DataFrame\nColumns: [OrderNumber, DeliveryID, Status, DeliveryTime]\nIndex: []",
      "text/html": "<div>\n<style scoped>\n    .dataframe tbody tr th:only-of-type {\n        vertical-align: middle;\n    }\n\n    .dataframe tbody tr th {\n        vertical-align: top;\n    }\n\n    .dataframe thead th {\n        text-align: right;\n    }\n</style>\n<table border=\"1\" class=\"dataframe\">\n  <thead>\n    <tr style=\"text-align: right;\">\n      <th></th>\n      <th>OrderNumber</th>\n      <th>DeliveryID</th>\n      <th>Status</th>\n      <th>DeliveryTime</th>\n    </tr>\n  </thead>\n  <tbody>\n  </tbody>\n</table>\n</div>"
     },
     "execution_count": 27,
     "metadata": {},
     "output_type": "execute_result"
    }
   ],
   "source": [
    "%%sql\n",
    "SELECT * FROM Delivery;"
   ],
   "metadata": {
    "collapsed": false,
    "SqlCellData": {
     "data_source_name": "@localhost",
     "variableName$1": "df_sql50"
    },
    "ExecuteTime": {
     "end_time": "2024-10-07T13:40:06.449830300Z",
     "start_time": "2024-10-07T13:40:06.320634Z"
    }
   },
   "id": "e7c2759a7c74db08",
   "execution_count": 27
  },
  {
   "cell_type": "code",
   "outputs": [],
   "source": [
    "%%sql\n",
    "INSERT INTO DeliveryPerson(AssignedArea, Availability) VALUES ('N', 'Available'),\n",
    "                                                                ('NE', 'Available'),\n",
    "                                                                ('E', 'Available'),\n",
    "                                                                ('SE', 'Available'),\n",
    "                                                                ('S', 'Available'),\n",
    "                                                                ('SW', 'Available'),\n",
    "                                                                ('W', 'Available'),\n",
    "                                                                ('NW', 'Available'),\n",
    "                                                                ('C', 'Available');"
   ],
   "metadata": {
    "collapsed": false,
    "SqlCellData": {
     "data_source_name": "@localhost",
     "variableName$1": "df_sql51"
    },
    "ExecuteTime": {
     "end_time": "2024-10-07T14:43:47.075658200Z",
     "start_time": "2024-10-07T14:43:47.026655400Z"
    }
   },
   "id": "652072fb1dd0ff2c"
  },
  {
   "cell_type": "code",
   "outputs": [
    {
     "data": {
      "text/plain": "    Tables_in_project\n0              adress\n1           customers\n2            delivery\n3      deliveryperson\n4          ingredient\n5         ingredients\n6    logininformation\n7           menuitems\n8      menuitemsorder\n9   orderdeliverytime\n10          orderinfo\n11         orderprice\n12              pizza\n13   pizzaingredients\n14         pizzaorder",
      "text/html": "<div>\n<style scoped>\n    .dataframe tbody tr th:only-of-type {\n        vertical-align: middle;\n    }\n\n    .dataframe tbody tr th {\n        vertical-align: top;\n    }\n\n    .dataframe thead th {\n        text-align: right;\n    }\n</style>\n<table border=\"1\" class=\"dataframe\">\n  <thead>\n    <tr style=\"text-align: right;\">\n      <th></th>\n      <th>Tables_in_project</th>\n    </tr>\n  </thead>\n  <tbody>\n    <tr>\n      <th>0</th>\n      <td>adress</td>\n    </tr>\n    <tr>\n      <th>1</th>\n      <td>customers</td>\n    </tr>\n    <tr>\n      <th>2</th>\n      <td>delivery</td>\n    </tr>\n    <tr>\n      <th>3</th>\n      <td>deliveryperson</td>\n    </tr>\n    <tr>\n      <th>4</th>\n      <td>ingredient</td>\n    </tr>\n    <tr>\n      <th>5</th>\n      <td>ingredients</td>\n    </tr>\n    <tr>\n      <th>6</th>\n      <td>logininformation</td>\n    </tr>\n    <tr>\n      <th>7</th>\n      <td>menuitems</td>\n    </tr>\n    <tr>\n      <th>8</th>\n      <td>menuitemsorder</td>\n    </tr>\n    <tr>\n      <th>9</th>\n      <td>orderdeliverytime</td>\n    </tr>\n    <tr>\n      <th>10</th>\n      <td>orderinfo</td>\n    </tr>\n    <tr>\n      <th>11</th>\n      <td>orderprice</td>\n    </tr>\n    <tr>\n      <th>12</th>\n      <td>pizza</td>\n    </tr>\n    <tr>\n      <th>13</th>\n      <td>pizzaingredients</td>\n    </tr>\n    <tr>\n      <th>14</th>\n      <td>pizzaorder</td>\n    </tr>\n  </tbody>\n</table>\n</div>"
     },
     "execution_count": 23,
     "metadata": {},
     "output_type": "execute_result"
    }
   ],
   "source": [
    "%%sql\n",
    "SHOW TABLES;"
   ],
   "metadata": {
    "collapsed": false,
    "SqlCellData": {
     "data_source_name": "@localhost",
     "variableName$1": "df_sql52"
    },
    "ExecuteTime": {
     "end_time": "2024-10-07T13:28:35.571063300Z",
     "start_time": "2024-10-07T13:28:35.468189400Z"
    }
   },
   "id": "a2211c4a5915907e",
   "execution_count": 23
  },
  {
   "cell_type": "code",
   "outputs": [
    {
     "data": {
      "text/plain": "    DeliveryID AssignedArea Availability\n0            1            N  Unavailable\n1            2           NE    Available\n2            3            E    Available\n3            4           SE    Available\n4            5            S  Unavailable\n5            6           SW    Available\n6            7            W    Available\n7            8           NW    Available\n8            9            C    Available\n9           10            N  Unavailable\n10          11           NE    Available\n11          12            E    Available\n12          13           SE    Available\n13          14            S  Unavailable\n14          15           SW    Available\n15          16            W    Available\n16          17           NW    Available\n17          18            C    Available\n18          19            N  Unavailable\n19          20           NE    Available\n20          21            E    Available\n21          22           SE    Available\n22          23            S    Available\n23          24           SW    Available\n24          25            W    Available\n25          26           NW    Available\n26          27            C    Available",
      "text/html": "<div>\n<style scoped>\n    .dataframe tbody tr th:only-of-type {\n        vertical-align: middle;\n    }\n\n    .dataframe tbody tr th {\n        vertical-align: top;\n    }\n\n    .dataframe thead th {\n        text-align: right;\n    }\n</style>\n<table border=\"1\" class=\"dataframe\">\n  <thead>\n    <tr style=\"text-align: right;\">\n      <th></th>\n      <th>DeliveryID</th>\n      <th>AssignedArea</th>\n      <th>Availability</th>\n    </tr>\n  </thead>\n  <tbody>\n    <tr>\n      <th>0</th>\n      <td>1</td>\n      <td>N</td>\n      <td>Unavailable</td>\n    </tr>\n    <tr>\n      <th>1</th>\n      <td>2</td>\n      <td>NE</td>\n      <td>Available</td>\n    </tr>\n    <tr>\n      <th>2</th>\n      <td>3</td>\n      <td>E</td>\n      <td>Available</td>\n    </tr>\n    <tr>\n      <th>3</th>\n      <td>4</td>\n      <td>SE</td>\n      <td>Available</td>\n    </tr>\n    <tr>\n      <th>4</th>\n      <td>5</td>\n      <td>S</td>\n      <td>Unavailable</td>\n    </tr>\n    <tr>\n      <th>5</th>\n      <td>6</td>\n      <td>SW</td>\n      <td>Available</td>\n    </tr>\n    <tr>\n      <th>6</th>\n      <td>7</td>\n      <td>W</td>\n      <td>Available</td>\n    </tr>\n    <tr>\n      <th>7</th>\n      <td>8</td>\n      <td>NW</td>\n      <td>Available</td>\n    </tr>\n    <tr>\n      <th>8</th>\n      <td>9</td>\n      <td>C</td>\n      <td>Available</td>\n    </tr>\n    <tr>\n      <th>9</th>\n      <td>10</td>\n      <td>N</td>\n      <td>Unavailable</td>\n    </tr>\n    <tr>\n      <th>10</th>\n      <td>11</td>\n      <td>NE</td>\n      <td>Available</td>\n    </tr>\n    <tr>\n      <th>11</th>\n      <td>12</td>\n      <td>E</td>\n      <td>Available</td>\n    </tr>\n    <tr>\n      <th>12</th>\n      <td>13</td>\n      <td>SE</td>\n      <td>Available</td>\n    </tr>\n    <tr>\n      <th>13</th>\n      <td>14</td>\n      <td>S</td>\n      <td>Unavailable</td>\n    </tr>\n    <tr>\n      <th>14</th>\n      <td>15</td>\n      <td>SW</td>\n      <td>Available</td>\n    </tr>\n    <tr>\n      <th>15</th>\n      <td>16</td>\n      <td>W</td>\n      <td>Available</td>\n    </tr>\n    <tr>\n      <th>16</th>\n      <td>17</td>\n      <td>NW</td>\n      <td>Available</td>\n    </tr>\n    <tr>\n      <th>17</th>\n      <td>18</td>\n      <td>C</td>\n      <td>Available</td>\n    </tr>\n    <tr>\n      <th>18</th>\n      <td>19</td>\n      <td>N</td>\n      <td>Unavailable</td>\n    </tr>\n    <tr>\n      <th>19</th>\n      <td>20</td>\n      <td>NE</td>\n      <td>Available</td>\n    </tr>\n    <tr>\n      <th>20</th>\n      <td>21</td>\n      <td>E</td>\n      <td>Available</td>\n    </tr>\n    <tr>\n      <th>21</th>\n      <td>22</td>\n      <td>SE</td>\n      <td>Available</td>\n    </tr>\n    <tr>\n      <th>22</th>\n      <td>23</td>\n      <td>S</td>\n      <td>Available</td>\n    </tr>\n    <tr>\n      <th>23</th>\n      <td>24</td>\n      <td>SW</td>\n      <td>Available</td>\n    </tr>\n    <tr>\n      <th>24</th>\n      <td>25</td>\n      <td>W</td>\n      <td>Available</td>\n    </tr>\n    <tr>\n      <th>25</th>\n      <td>26</td>\n      <td>NW</td>\n      <td>Available</td>\n    </tr>\n    <tr>\n      <th>26</th>\n      <td>27</td>\n      <td>C</td>\n      <td>Available</td>\n    </tr>\n  </tbody>\n</table>\n</div>"
     },
     "execution_count": 35,
     "metadata": {},
     "output_type": "execute_result"
    }
   ],
   "source": [
    "%%sql\n",
    "SELECT * FROM DeliveryPerson;"
   ],
   "metadata": {
    "collapsed": false,
    "SqlCellData": {
     "data_source_name": "@localhost",
     "variableName$1": "df_sql53"
    },
    "ExecuteTime": {
     "end_time": "2024-10-07T14:44:46.761957600Z",
     "start_time": "2024-10-07T14:44:46.668266800Z"
    }
   },
   "id": "a280b662eb8c4474",
   "execution_count": 35
  }
 ],
 "metadata": {
  "kernelspec": {
   "display_name": "Python 3",
   "language": "python",
   "name": "python3"
  },
  "language_info": {
   "codemirror_mode": {
    "name": "ipython",
    "version": 2
   },
   "file_extension": ".py",
   "mimetype": "text/x-python",
   "name": "python",
   "nbconvert_exporter": "python",
   "pygments_lexer": "ipython2",
   "version": "2.7.6"
  }
 },
 "nbformat": 4,
 "nbformat_minor": 5
}
