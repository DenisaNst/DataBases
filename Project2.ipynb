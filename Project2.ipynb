{
 "cells": [
  {
   "cell_type": "code",
   "outputs": [],
   "source": [
    "%%sql\n",
    "CREATE TABLE Customers (\n",
    "  `CustomerID` INTEGER PRIMARY KEY AUTO_INCREMENT,\n",
    "  `Name` TEXT,\n",
    "  `Gender` TEXT,\n",
    "  `Address` VARCHAR(255),\n",
    "  `Birthdate` INTEGER,\n",
    "  `Phone` INTEGER\n",
    ");"
   ],
   "metadata": {
    "collapsed": false,
    "SqlCellData": {
     "data_source_name": "@localhost",
     "variableName$1": "df_sql"
    }
   },
   "id": "ea0e487cb030bcbb",
   "execution_count": null
  },
  {
   "cell_type": "code",
   "outputs": [],
   "source": [
    "%%sql\n",
    "USE project;"
   ],
   "metadata": {
    "collapsed": false,
    "SqlCellData": {
     "data_source_name": "@localhost",
     "variableName$1": "df_sql12"
    },
    "ExecuteTime": {
     "end_time": "2024-09-18T11:58:18.876062400Z",
     "start_time": "2024-09-18T11:58:18.784055500Z"
    }
   },
   "id": "f73b8954bd73db22"
  },
  {
   "cell_type": "code",
   "outputs": [],
   "source": [
    "%%sql\n",
    "CREATE DATABASE project;"
   ],
   "metadata": {
    "collapsed": false,
    "SqlCellData": {
     "data_source_name": "@localhost",
     "variableName$1": "df_sql11"
    }
   },
   "id": "fc5b7537606f83da",
   "execution_count": null
  },
  {
   "cell_type": "code",
   "outputs": [],
   "source": [
    "%%sql\n",
    "CREATE TABLE OrderInfo (\n",
    "  `OrderNumber` INTEGER PRIMARY KEY AUTO_INCREMENT,\n",
    "  `CustomerID` INTEGER,\n",
    "  `Date` Date,\n",
    "  `Time` Time,\n",
    "  `Price` DOUBLE,\n",
    "  FOREIGN KEY (`CustomerID`) REFERENCES Customers (`CustomerID`) \n",
    "    ON DELETE CASCADE\n",
    "    ON UPDATE CASCADE\n",
    ");"
   ],
   "metadata": {
    "collapsed": false,
    "SqlCellData": {
     "data_source_name": "@localhost",
     "variableName$1": "df_sql1"
    },
    "ExecuteTime": {
     "end_time": "2024-09-17T13:07:12.308512800Z",
     "start_time": "2024-09-17T13:07:12.135724700Z"
    }
   },
   "id": "5a798215ac8c0c53",
   "execution_count": 19
  },
  {
   "cell_type": "code",
   "outputs": [],
   "source": [
    "%%sql\n",
    "CREATE TABLE MenuItemsOrder (\n",
    "  `OrderNumber` INTEGER,\n",
    "  `MenuItemsID` INTEGER,\n",
    "  FOREIGN KEY (`OrderNumber`) REFERENCES OrderInfo (`OrderNumber`),\n",
    "  FOREIGN KEY (`MenuItemsID`) REFERENCES MenuItems (`MenuItemsID`)\n",
    "    ON DELETE CASCADE\n",
    "    ON UPDATE CASCADE\n",
    ");"
   ],
   "metadata": {
    "collapsed": false,
    "SqlCellData": {
     "data_source_name": "@localhost",
     "variableName$1": "df_sql2"
    },
    "ExecuteTime": {
     "end_time": "2024-09-17T13:07:19.689946400Z",
     "start_time": "2024-09-17T13:07:19.552937800Z"
    }
   },
   "id": "c23e5600f6b39b70",
   "execution_count": 20
  },
  {
   "cell_type": "code",
   "outputs": [],
   "source": [
    "%%sql\n",
    "CREATE TABLE MenuItems (\n",
    "  `MenuItemsID` INTEGER PRIMARY KEY AUTO_INCREMENT,\n",
    "  `Name` TEXT,\n",
    "  `Price` DOUBLE \n",
    ");"
   ],
   "metadata": {
    "collapsed": false,
    "SqlCellData": {
     "data_source_name": "@localhost",
     "variableName$1": "df_sql3"
    },
    "ExecuteTime": {
     "end_time": "2024-09-17T13:06:52.519858700Z",
     "start_time": "2024-09-17T13:06:52.255395300Z"
    }
   },
   "id": "d6d5d87843ab42ef"
  },
  {
   "cell_type": "code",
   "outputs": [],
   "source": [
    "%%sql\n",
    "CREATE TABLE PizzaOrder (\n",
    "  `OrderNumber` INTEGER,\n",
    "  `PizzaID` INTEGER,\n",
    "  FOREIGN KEY (`OrderNumber`) REFERENCES OrderInfo (`OrderNumber`),\n",
    "  FOREIGN KEY (`PizzaID`) REFERENCES Pizza (`PizzaID`)\n",
    "    ON DELETE CASCADE\n",
    "    ON UPDATE CASCADE\n",
    ");"
   ],
   "metadata": {
    "collapsed": false,
    "SqlCellData": {
     "data_source_name": "@localhost",
     "variableName$1": "df_sql4"
    },
    "ExecuteTime": {
     "end_time": "2024-09-17T13:16:24.735508400Z",
     "start_time": "2024-09-17T13:16:24.552491100Z"
    }
   },
   "id": "f396c7346f89066",
   "execution_count": 32
  },
  {
   "cell_type": "code",
   "outputs": [],
   "source": [
    "%%sql\n",
    "CREATE TABLE Pizza (\n",
    "  `PizzaID` INTEGER PRIMARY KEY AUTO_INCREMENT,\n",
    "  `Name` TEXT,\n",
    "  `DietaryInfo` TEXT,\n",
    "  `Price` DOUBLE\n",
    ");\n"
   ],
   "metadata": {
    "collapsed": false,
    "SqlCellData": {
     "data_source_name": "@localhost",
     "variableName$1": "df_sql5"
    },
    "ExecuteTime": {
     "end_time": "2024-09-17T13:13:38.656959300Z",
     "start_time": "2024-09-17T13:13:38.451968100Z"
    }
   },
   "id": "e6fa1ce078642b4f",
   "execution_count": 28
  },
  {
   "cell_type": "code",
   "outputs": [],
   "source": [
    "%%sql\n",
    "CREATE TABLE LoginInformation (\n",
    "  `CustomerID` INTEGER PRIMARY KEY AUTO_INCREMENT,\n",
    "  `Username` VARCHAR(255),\n",
    "  `Password` VARCHAR(255),\n",
    "  FOREIGN KEY (CustomerID) REFERENCES Customers(CustomerID)\n",
    "    ON DELETE CASCADE\n",
    "    ON UPDATE CASCADE\n",
    ");"
   ],
   "metadata": {
    "collapsed": false,
    "SqlCellData": {
     "data_source_name": "@localhost",
     "variableName$1": "df_sql6"
    },
    "ExecuteTime": {
     "end_time": "2024-09-17T13:06:53.046881200Z",
     "start_time": "2024-09-17T13:06:52.831226900Z"
    }
   },
   "id": "1419b72c14f56272",
   "execution_count": 7
  },
  {
   "cell_type": "code",
   "outputs": [],
   "source": [
    "%%sql\n",
    "CREATE TABLE DeliveryPerson (\n",
    "  `DeliveryID` INTEGER PRIMARY KEY AUTO_INCREMENT,\n",
    "  `AssignedArea` VARCHAR(10),\n",
    "  `Availability` TEXT\n",
    ");"
   ],
   "metadata": {
    "collapsed": false,
    "SqlCellData": {
     "data_source_name": "@localhost",
     "variableName$1": "df_sql7"
    },
    "ExecuteTime": {
     "end_time": "2024-09-17T13:06:53.297568Z",
     "start_time": "2024-09-17T13:06:53.047877700Z"
    }
   },
   "id": "81f9f52bdc8ea12d"
  },
  {
   "cell_type": "code",
   "outputs": [],
   "source": [
    "%%sql\n",
    "CREATE TABLE Delivery (\n",
    "  `OrderNumber` INTEGER,\n",
    "  `DeliveryID` INTEGER,\n",
    "   `Status` TEXT,\n",
    "  `DeliveryTime` Time,\n",
    "  FOREIGN KEY (`DeliveryID`) REFERENCES DeliveryPerson (`DeliveryID`),\n",
    "  FOREIGN KEY (OrderNumber) REFERENCES OrderInfo (`OrderNumber`)\n",
    "    ON DELETE CASCADE\n",
    "    ON UPDATE CASCADE\n",
    ");"
   ],
   "metadata": {
    "collapsed": false,
    "SqlCellData": {
     "data_source_name": "@localhost",
     "variableName$1": "df_sql8"
    },
    "ExecuteTime": {
     "end_time": "2024-09-17T13:16:53.272573100Z",
     "start_time": "2024-09-17T13:16:53.137579Z"
    }
   },
   "id": "ab39b71dd69daf26",
   "execution_count": 23
  },
  {
   "cell_type": "code",
   "outputs": [],
   "source": [
    "%%sql\n",
    "\n",
    "CREATE TABLE Ingridients (\n",
    "  `IngridientID` INTEGER PRIMARY KEY AUTO_INCREMENT,\n",
    "  `Name` TEXT,\n",
    "  `Price` DOUBLE\n",
    ");"
   ],
   "metadata": {
    "collapsed": false,
    "SqlCellData": {
     "data_source_name": "@localhost",
     "variableName$1": "df_sql9"
    },
    "ExecuteTime": {
     "end_time": "2024-09-17T13:06:53.540868100Z",
     "start_time": "2024-09-17T13:06:53.365572Z"
    }
   },
   "id": "7baaa1818ab967ea"
  },
  {
   "cell_type": "code",
   "outputs": [],
   "source": [
    "%%sql\n",
    "CREATE TABLE PizzaIngridients (\n",
    "  `PizzaID` INTEGER,\n",
    "  `IngridientID` INTEGER,\n",
    "  `DietaryInfo` TEXT,\n",
    "  `Price` DOUBLE,\n",
    "  FOREIGN KEY (`PizzaID`) REFERENCES `Pizza`(`PizzaID`),\n",
    "  FOREIGN KEY (`IngridientID`) REFERENCES `Ingridients`(`IngridientID`)\n",
    "    ON DELETE CASCADE\n",
    "    ON UPDATE CASCADE\n",
    ");"
   ],
   "metadata": {
    "collapsed": false,
    "SqlCellData": {
     "data_source_name": "@localhost",
     "variableName$1": "df_sql10"
    },
    "ExecuteTime": {
     "end_time": "2024-09-17T13:17:06.654914300Z",
     "start_time": "2024-09-17T13:17:06.540901300Z"
    }
   },
   "id": "d7e4299c5bacb719",
   "execution_count": 24
  },
  {
   "cell_type": "code",
   "outputs": [],
   "source": [
    "%%sql\n",
    "INSERT INTO Ingridients (Name, Price) VALUES \n",
    "   ('Tomato sauce', 0.50),\n",
    "   ('Mozzarella', 1.00), \n",
    "   ('Pepperoni', 1.50), \n",
    "   ('Mushrooms', 0.70), \n",
    "   ('Olives', 0.40), \n",
    "   ('Basil', 0.30),\n",
    "   ('Onions', 0.20),\n",
    "   ('Bell Peppers', 0.50),\n",
    "   ('Sausage', 1.50),   \n",
    "   ('Pineapple', 1.50);\n"
   ],
   "metadata": {
    "collapsed": false,
    "SqlCellData": {
     "data_source_name": "@localhost",
     "variableName$1": "df_sql13"
    },
    "ExecuteTime": {
     "end_time": "2024-09-17T14:03:59.745238200Z",
     "start_time": "2024-09-17T14:03:59.685232700Z"
    }
   },
   "id": "6aede61c375865ad",
   "execution_count": 36
  },
  {
   "cell_type": "code",
   "outputs": [
    {
     "name": "stdout",
     "output_type": "stream",
     "text": [
      "1.4.39\n"
     ]
    }
   ],
   "source": [
    "import sqlalchemy\n",
    "print(sqlalchemy.__version__)"
   ],
   "metadata": {
    "collapsed": false,
    "ExecuteTime": {
     "end_time": "2024-09-17T14:41:51.538038600Z",
     "start_time": "2024-09-17T14:41:51.527035900Z"
    }
   },
   "id": "b0c155e8fe33f09a",
   "execution_count": 21
  },
  {
   "cell_type": "code",
   "outputs": [],
   "source": [
    "%%sql\n",
    "ALTER TABLE Customers MODIFY COLUMN Birthdate DATE;"
   ],
   "metadata": {
    "collapsed": false,
    "SqlCellData": {
     "data_source_name": "@localhost",
     "variableName$1": "df_sql16"
    }
   },
   "id": "dda13a98287a7579",
   "execution_count": 35
  }
 ],
 "metadata": {
  "kernelspec": {
   "display_name": "Python 3",
   "language": "python",
   "name": "python3"
  },
  "language_info": {
   "codemirror_mode": {
    "name": "ipython",
    "version": 2
   },
   "file_extension": ".py",
   "mimetype": "text/x-python",
   "name": "python",
   "nbconvert_exporter": "python",
   "pygments_lexer": "ipython2",
   "version": "2.7.6"
  }
 },
 "nbformat": 4,
 "nbformat_minor": 5
}
