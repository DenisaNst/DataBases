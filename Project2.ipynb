{
 "cells": [
  {
   "cell_type": "code",
   "outputs": [],
   "source": [
    "%%sql\n",
    "CREATE TABLE Customers (\n",
    "  `CustomerID` INTEGER PRIMARY KEY AUTO_INCREMENT,\n",
    "  `Name` TEXT,\n",
    "  `Gender` TEXT,\n",
    "  `Address` VARCHAR(255),\n",
    "  `Birthdate` INTEGER,\n",
    "  `Phone` INTEGER\n",
    ");"
   ],
   "metadata": {
    "collapsed": false,
    "SqlCellData": {
     "data_source_name": "@localhost",
     "variableName$1": "df_sql"
    }
   },
   "id": "ea0e487cb030bcbb",
   "execution_count": null
  },
  {
   "cell_type": "code",
   "outputs": [],
   "source": [
    "%%sql\n",
    "USE project;"
   ],
   "metadata": {
    "collapsed": false,
    "SqlCellData": {
     "data_source_name": "@localhost",
     "variableName$1": "df_sql12"
    },
    "ExecuteTime": {
     "end_time": "2024-10-04T08:31:54.158541900Z",
     "start_time": "2024-10-04T08:31:54.053535Z"
    }
   },
   "id": "f73b8954bd73db22"
  },
  {
   "cell_type": "code",
   "outputs": [],
   "source": [
    "%%sql\n",
    "CREATE DATABASE project;"
   ],
   "metadata": {
    "collapsed": false,
    "SqlCellData": {
     "data_source_name": "@localhost",
     "variableName$1": "df_sql11"
    }
   },
   "id": "fc5b7537606f83da",
   "execution_count": null
  },
  {
   "cell_type": "code",
   "outputs": [],
   "source": [
    "%%sql\n",
    "CREATE TABLE OrderInfo (\n",
    "  `OrderNumber` INTEGER PRIMARY KEY AUTO_INCREMENT,\n",
    "  `CustomerID` INTEGER,\n",
    "  `Date` Date,\n",
    "  `Time` Time,\n",
    "  `Price` DOUBLE,\n",
    "  FOREIGN KEY (`CustomerID`) REFERENCES Customers (`CustomerID`) \n",
    "    ON DELETE CASCADE\n",
    "    ON UPDATE CASCADE\n",
    ");"
   ],
   "metadata": {
    "collapsed": false,
    "SqlCellData": {
     "data_source_name": "@localhost",
     "variableName$1": "df_sql1"
    },
    "ExecuteTime": {
     "end_time": "2024-09-17T13:07:12.308512800Z",
     "start_time": "2024-09-17T13:07:12.135724700Z"
    }
   },
   "id": "5a798215ac8c0c53",
   "execution_count": 19
  },
  {
   "cell_type": "code",
   "outputs": [],
   "source": [
    "%%sql\n",
    "CREATE TABLE MenuItemsOrder (\n",
    "  `OrderNumber` INTEGER,\n",
    "  `MenuItemsID` INTEGER,\n",
    "  FOREIGN KEY (`OrderNumber`) REFERENCES OrderInfo (`OrderNumber`),\n",
    "  FOREIGN KEY (`MenuItemsID`) REFERENCES MenuItems (`MenuItemsID`)\n",
    "    ON DELETE CASCADE\n",
    "    ON UPDATE CASCADE\n",
    ");"
   ],
   "metadata": {
    "collapsed": false,
    "SqlCellData": {
     "data_source_name": "@localhost",
     "variableName$1": "df_sql2"
    },
    "ExecuteTime": {
     "end_time": "2024-09-17T13:07:19.689946400Z",
     "start_time": "2024-09-17T13:07:19.552937800Z"
    }
   },
   "id": "c23e5600f6b39b70",
   "execution_count": 20
  },
  {
   "cell_type": "code",
   "outputs": [],
   "source": [
    "%%sql\n",
    "CREATE TABLE MenuItems (\n",
    "  `MenuItemsID` INTEGER PRIMARY KEY AUTO_INCREMENT,\n",
    "  `Name` TEXT,\n",
    "  `Price` DOUBLE \n",
    ");"
   ],
   "metadata": {
    "collapsed": false,
    "SqlCellData": {
     "data_source_name": "@localhost",
     "variableName$1": "df_sql3"
    },
    "ExecuteTime": {
     "end_time": "2024-09-17T13:06:52.519858700Z",
     "start_time": "2024-09-17T13:06:52.255395300Z"
    }
   },
   "id": "d6d5d87843ab42ef"
  },
  {
   "cell_type": "code",
   "outputs": [],
   "source": [
    "%%sql\n",
    "CREATE TABLE PizzaOrder (\n",
    "  `OrderNumber` INTEGER,\n",
    "  `PizzaID` INTEGER,\n",
    "  FOREIGN KEY (`OrderNumber`) REFERENCES OrderInfo (`OrderNumber`),\n",
    "  FOREIGN KEY (`PizzaID`) REFERENCES Pizza (`PizzaID`)\n",
    "    ON DELETE CASCADE\n",
    "    ON UPDATE CASCADE\n",
    ");"
   ],
   "metadata": {
    "collapsed": false,
    "SqlCellData": {
     "data_source_name": "@localhost",
     "variableName$1": "df_sql4"
    },
    "ExecuteTime": {
     "end_time": "2024-09-26T11:58:34.078267200Z",
     "start_time": "2024-09-26T11:58:33.989257300Z"
    }
   },
   "id": "f396c7346f89066",
   "execution_count": 32
  },
  {
   "cell_type": "code",
   "outputs": [],
   "source": [
    "%%sql\n",
    "CREATE TABLE Pizza (\n",
    "  `PizzaID` INTEGER PRIMARY KEY AUTO_INCREMENT,\n",
    "  `Name` TEXT,\n",
    "  `DietaryInfo` TEXT,\n",
    "  `Price` DOUBLE\n",
    ");\n"
   ],
   "metadata": {
    "collapsed": false,
    "SqlCellData": {
     "data_source_name": "@localhost",
     "variableName$1": "df_sql5"
    },
    "ExecuteTime": {
     "end_time": "2024-09-26T11:58:30.039825900Z",
     "start_time": "2024-09-26T11:58:29.974826400Z"
    }
   },
   "id": "e6fa1ce078642b4f",
   "execution_count": 28
  },
  {
   "cell_type": "code",
   "outputs": [],
   "source": [
    "%%sql\n",
    "CREATE TABLE LoginInformation (\n",
    "  `CustomerID` INTEGER PRIMARY KEY AUTO_INCREMENT,\n",
    "  `Username` VARCHAR(255),\n",
    "  `Password` VARCHAR(255),\n",
    "  FOREIGN KEY (CustomerID) REFERENCES Customers(CustomerID)\n",
    "    ON DELETE CASCADE\n",
    "    ON UPDATE CASCADE\n",
    ");"
   ],
   "metadata": {
    "collapsed": false,
    "SqlCellData": {
     "data_source_name": "@localhost",
     "variableName$1": "df_sql6"
    },
    "ExecuteTime": {
     "end_time": "2024-09-17T13:06:53.046881200Z",
     "start_time": "2024-09-17T13:06:52.831226900Z"
    }
   },
   "id": "1419b72c14f56272",
   "execution_count": 7
  },
  {
   "cell_type": "code",
   "outputs": [],
   "source": [
    "%%sql\n",
    "CREATE TABLE DeliveryPerson (\n",
    "  `DeliveryID` INTEGER PRIMARY KEY AUTO_INCREMENT,\n",
    "  `AssignedArea` VARCHAR(9),\n",
    "  `Availability` TEXT\n",
    ");"
   ],
   "metadata": {
    "collapsed": false,
    "SqlCellData": {
     "data_source_name": "@localhost",
     "variableName$1": "df_sql7"
    },
    "ExecuteTime": {
     "end_time": "2024-09-17T13:06:53.297568Z",
     "start_time": "2024-09-17T13:06:53.047877700Z"
    }
   },
   "id": "81f9f52bdc8ea12d"
  },
  {
   "cell_type": "code",
   "outputs": [],
   "source": [
    "%%sql\n",
    "CREATE TABLE Delivery (\n",
    "  `OrderNumber` INTEGER,\n",
    "  `DeliveryID` INTEGER,\n",
    "   `Status` TEXT,\n",
    "  `DeliveryTime` Time,\n",
    "  FOREIGN KEY (`DeliveryID`) REFERENCES DeliveryPerson (`DeliveryID`),\n",
    "  FOREIGN KEY (OrderNumber) REFERENCES OrderInfo (`OrderNumber`)\n",
    "    ON DELETE CASCADE\n",
    "    ON UPDATE CASCADE\n",
    ");"
   ],
   "metadata": {
    "collapsed": false,
    "SqlCellData": {
     "data_source_name": "@localhost",
     "variableName$1": "df_sql8"
    },
    "ExecuteTime": {
     "end_time": "2024-09-17T13:16:53.272573100Z",
     "start_time": "2024-09-17T13:16:53.137579Z"
    }
   },
   "id": "ab39b71dd69daf26",
   "execution_count": 23
  },
  {
   "cell_type": "code",
   "outputs": [],
   "source": [
    "%%sql\n",
    "\n",
    "CREATE TABLE Ingredients (\n",
    "  `IngredientID` INTEGER PRIMARY KEY AUTO_INCREMENT,\n",
    "  `Name` TEXT,\n",
    "  `Price` DOUBLE\n",
    ");"
   ],
   "metadata": {
    "collapsed": false,
    "SqlCellData": {
     "data_source_name": "@localhost",
     "variableName$1": "df_sql9"
    },
    "ExecuteTime": {
     "end_time": "2024-09-26T11:59:08.461594700Z",
     "start_time": "2024-09-26T11:59:08.396592500Z"
    }
   },
   "id": "7baaa1818ab967ea"
  },
  {
   "cell_type": "code",
   "outputs": [],
   "source": [
    "%%sql\n",
    "CREATE TABLE PizzaIngredients (\n",
    "  `PizzaID` INTEGER,\n",
    "  `IngredientID` INTEGER,\n",
    "  `DietaryInfo` TEXT,\n",
    "  `Price` DOUBLE,\n",
    "  FOREIGN KEY (`PizzaID`) REFERENCES `Pizza`(`PizzaID`),\n",
    "  FOREIGN KEY (`IngredientID`) REFERENCES `Ingredients`(`IngredientID`)\n",
    "    ON DELETE CASCADE\n",
    "    ON UPDATE CASCADE\n",
    ");"
   ],
   "metadata": {
    "collapsed": false,
    "SqlCellData": {
     "data_source_name": "@localhost",
     "variableName$1": "df_sql10"
    },
    "ExecuteTime": {
     "end_time": "2024-09-26T11:59:24.232246500Z",
     "start_time": "2024-09-26T11:59:24.143230500Z"
    }
   },
   "id": "d7e4299c5bacb719",
   "execution_count": 10
  },
  {
   "cell_type": "code",
   "outputs": [],
   "source": [
    "%%sql\n",
    "INSERT INTO Ingredients (Name, Price) VALUES \n",
    "   ('Tomato sauce', 2.50),\n",
    "   ('Mozzarella', 4.20), \n",
    "   ('Pepperoni', 3.50), \n",
    "   ('Mushrooms',2.20), \n",
    "   ('Olives',2.40), \n",
    "   ('Basil',1.60),\n",
    "   ('Onions',1.20),\n",
    "   ('Bell Peppers',4.50),\n",
    "   ('Sausage', 5.20),   \n",
    "   ('Pineapple', 6.50);\n"
   ],
   "metadata": {
    "collapsed": false,
    "SqlCellData": {
     "data_source_name": "@localhost",
     "variableName$1": "df_sql13"
    },
    "ExecuteTime": {
     "end_time": "2024-09-29T13:27:48.820987Z",
     "start_time": "2024-09-29T13:27:48.737978Z"
    }
   },
   "id": "6aede61c375865ad",
   "execution_count": 36
  },
  {
   "cell_type": "code",
   "outputs": [
    {
     "name": "stdout",
     "output_type": "stream",
     "text": [
      "1.4.39\n"
     ]
    }
   ],
   "source": [
    "import sqlalchemy\n",
    "print(sqlalchemy.__version__)"
   ],
   "metadata": {
    "collapsed": false,
    "ExecuteTime": {
     "end_time": "2024-09-17T14:41:51.538038600Z",
     "start_time": "2024-09-17T14:41:51.527035900Z"
    }
   },
   "id": "b0c155e8fe33f09a",
   "execution_count": 21
  },
  {
   "cell_type": "code",
   "outputs": [],
   "source": [
    "%%sql\n",
    "ALTER TABLE Customers MODIFY COLUMN Birthdate DATE;"
   ],
   "metadata": {
    "collapsed": false,
    "SqlCellData": {
     "data_source_name": "@localhost",
     "variableName$1": "df_sql16"
    }
   },
   "id": "dda13a98287a7579",
   "execution_count": 35
  },
  {
   "cell_type": "code",
   "outputs": [],
   "source": [
    "%%sql\n",
    "SELECT * FROM Customers;"
   ],
   "metadata": {
    "collapsed": false,
    "SqlCellData": {
     "data_source_name": "@localhost",
     "variableName$1": "df_sql18"
    }
   },
   "id": "cd9936f07c067122",
   "execution_count": null
  },
  {
   "cell_type": "code",
   "outputs": [],
   "source": [
    "%%sql\n",
    "INSERT INTO Pizza(Name, DietaryInfo) VALUES ('Margherita', 'Vegetarian'), \n",
    "                                                   ('Pepperoni', 'Meat'), \n",
    "                                                   ('Hawaiian', 'Meat'), \n",
    "                                                   ('Vegetarian Delight', 'Vegetarian'),\n",
    "                                                   ('Meat Lover', 'Meat'), \n",
    "                                                   ('Four Seasons', 'Vegan'),\n",
    "                                                   ('BBQ Chicken Pizza', 'Meat'),\n",
    "                                                   ('Capricciosa', 'Meat'),\n",
    "                                                   ('Mexican Pizza', 'Meat'),\n",
    "                                                   ('Supreme Pizza', 'Meat');"
   ],
   "metadata": {
    "collapsed": false,
    "SqlCellData": {
     "data_source_name": "@localhost",
     "variableName$1": "df_sql19"
    },
    "ExecuteTime": {
     "end_time": "2024-10-01T08:36:02.425502100Z",
     "start_time": "2024-10-01T08:36:02.312494700Z"
    }
   },
   "id": "5c68e733d0901438",
   "execution_count": 1
  },
  {
   "cell_type": "code",
   "outputs": [],
   "source": [
    "%%sql\n",
    "INSERT INTO PizzaIngredients (PizzaID, IngredientID, DietaryInfo, Price) VALUES \n",
    "(1, 1, 'Vegetarian', 2.50), \n",
    "(1, 2, 'Vegetarian', 4.20), \n",
    "(1, 6, 'Vegetarian', 1.60), \n",
    "(2, 1, 'Meat', 2.50), \n",
    "(2, 2, 'Meat', 4.20), \n",
    "(2, 3, 'Meat', 3.50), \n",
    "(3, 1, 'Meat', 2.50), \n",
    "(3, 2, 'Meat', 4.20), \n",
    "(3, 9, 'Meat', 5.20), \n",
    "(4, 1, 'Vegetarian', 2.50), \n",
    "(4, 2, 'Vegetarian', 4.20), \n",
    "(4, 4, 'Vegetarian', 2.20), \n",
    "(4, 7, 'Vegetarian', 1.20), \n",
    "(4, 8, 'Vegetarian', 4.50), \n",
    "(5, 1, 'Meat', 2.50), \n",
    "(5, 2, 'Meat', 4.20), \n",
    "(5, 3, 'Meat', 3.50), \n",
    "(6, 1, 'Vegan', 2.50), \n",
    "(6, 2, 'Vegan', 4.20), \n",
    "(6, 4, 'Vegan', 2.20), \n",
    "(6, 7, 'Vegan', 1.20), \n",
    "(6, 5, 'Vegan', 2.40), \n",
    "(7, 2, 'Meat', 4.20), \n",
    "(7, 7, 'Meat', 1.20), \n",
    "(8, 1, 'Meat', 2.50), \n",
    "(8, 2, 'Meat', 4.20), \n",
    "(8, 4, 'Meat', 2.20), \n",
    "(8, 5, 'Meat', 2.40);"
   ],
   "metadata": {
    "collapsed": false,
    "SqlCellData": {
     "data_source_name": "@localhost",
     "variableName$1": "df_sql21"
    },
    "ExecuteTime": {
     "end_time": "2024-10-01T08:36:06.649846300Z",
     "start_time": "2024-10-01T08:36:06.529839300Z"
    }
   },
   "id": "49f76d75aec705e8",
   "execution_count": 23
  },
  {
   "cell_type": "code",
   "outputs": [
    {
     "data": {
      "text/plain": "     PizzaID  IngridientID DietaryInfo  Price\n0          1             1  Vegetarian    NaN\n1          1             2  Vegetarian    NaN\n2          1             6  Vegetarian    NaN\n3          2             1        Meat    NaN\n4          2             2        Meat    NaN\n..       ...           ...         ...    ...\n140        7             7        Meat    NaN\n141        8             1        Meat    NaN\n142        8             2        Meat    NaN\n143        8             4        Meat    NaN\n144        8             5        Meat    NaN\n\n[145 rows x 4 columns]",
      "text/html": "<div>\n<style scoped>\n    .dataframe tbody tr th:only-of-type {\n        vertical-align: middle;\n    }\n\n    .dataframe tbody tr th {\n        vertical-align: top;\n    }\n\n    .dataframe thead th {\n        text-align: right;\n    }\n</style>\n<table border=\"1\" class=\"dataframe\">\n  <thead>\n    <tr style=\"text-align: right;\">\n      <th></th>\n      <th>PizzaID</th>\n      <th>IngridientID</th>\n      <th>DietaryInfo</th>\n      <th>Price</th>\n    </tr>\n  </thead>\n  <tbody>\n    <tr>\n      <th>0</th>\n      <td>1</td>\n      <td>1</td>\n      <td>Vegetarian</td>\n      <td>NaN</td>\n    </tr>\n    <tr>\n      <th>1</th>\n      <td>1</td>\n      <td>2</td>\n      <td>Vegetarian</td>\n      <td>NaN</td>\n    </tr>\n    <tr>\n      <th>2</th>\n      <td>1</td>\n      <td>6</td>\n      <td>Vegetarian</td>\n      <td>NaN</td>\n    </tr>\n    <tr>\n      <th>3</th>\n      <td>2</td>\n      <td>1</td>\n      <td>Meat</td>\n      <td>NaN</td>\n    </tr>\n    <tr>\n      <th>4</th>\n      <td>2</td>\n      <td>2</td>\n      <td>Meat</td>\n      <td>NaN</td>\n    </tr>\n    <tr>\n      <th>...</th>\n      <td>...</td>\n      <td>...</td>\n      <td>...</td>\n      <td>...</td>\n    </tr>\n    <tr>\n      <th>140</th>\n      <td>7</td>\n      <td>7</td>\n      <td>Meat</td>\n      <td>NaN</td>\n    </tr>\n    <tr>\n      <th>141</th>\n      <td>8</td>\n      <td>1</td>\n      <td>Meat</td>\n      <td>NaN</td>\n    </tr>\n    <tr>\n      <th>142</th>\n      <td>8</td>\n      <td>2</td>\n      <td>Meat</td>\n      <td>NaN</td>\n    </tr>\n    <tr>\n      <th>143</th>\n      <td>8</td>\n      <td>4</td>\n      <td>Meat</td>\n      <td>NaN</td>\n    </tr>\n    <tr>\n      <th>144</th>\n      <td>8</td>\n      <td>5</td>\n      <td>Meat</td>\n      <td>NaN</td>\n    </tr>\n  </tbody>\n</table>\n<p>145 rows × 4 columns</p>\n</div>"
     },
     "execution_count": 2,
     "metadata": {},
     "output_type": "execute_result"
    }
   ],
   "source": [
    "%%sql\n",
    "SELECT * FROM PizzaIngridients;"
   ],
   "metadata": {
    "collapsed": false,
    "SqlCellData": {
     "data_source_name": "@localhost",
     "variableName$1": "df_sql22"
    },
    "ExecuteTime": {
     "end_time": "2024-09-26T11:42:29.706045300Z",
     "start_time": "2024-09-26T11:42:28.408065200Z"
    }
   },
   "id": "b6f6897c6e3623fa",
   "execution_count": 2
  },
  {
   "cell_type": "code",
   "outputs": [
    {
     "data": {
      "text/plain": "    PizzaID                Name DietaryInfo  Price\n0         1          Margherita  Vegetarian    NaN\n1         2           Pepperoni        Meat    NaN\n2         3            Hawaiian        Meat    NaN\n3         4  Vegetarian Delight  Vegetarian    NaN\n4         5          Meat Lover        Meat    NaN\n..      ...                 ...         ...    ...\n85       88        Four Seasons       Vegan    NaN\n86       89   BBQ Chicken Pizza        Meat    NaN\n87       90         Capricciosa        Meat    NaN\n88       91       Mexican Pizza        Meat    NaN\n89       92       Supreme Pizza        Meat    NaN\n\n[90 rows x 4 columns]",
      "text/html": "<div>\n<style scoped>\n    .dataframe tbody tr th:only-of-type {\n        vertical-align: middle;\n    }\n\n    .dataframe tbody tr th {\n        vertical-align: top;\n    }\n\n    .dataframe thead th {\n        text-align: right;\n    }\n</style>\n<table border=\"1\" class=\"dataframe\">\n  <thead>\n    <tr style=\"text-align: right;\">\n      <th></th>\n      <th>PizzaID</th>\n      <th>Name</th>\n      <th>DietaryInfo</th>\n      <th>Price</th>\n    </tr>\n  </thead>\n  <tbody>\n    <tr>\n      <th>0</th>\n      <td>1</td>\n      <td>Margherita</td>\n      <td>Vegetarian</td>\n      <td>NaN</td>\n    </tr>\n    <tr>\n      <th>1</th>\n      <td>2</td>\n      <td>Pepperoni</td>\n      <td>Meat</td>\n      <td>NaN</td>\n    </tr>\n    <tr>\n      <th>2</th>\n      <td>3</td>\n      <td>Hawaiian</td>\n      <td>Meat</td>\n      <td>NaN</td>\n    </tr>\n    <tr>\n      <th>3</th>\n      <td>4</td>\n      <td>Vegetarian Delight</td>\n      <td>Vegetarian</td>\n      <td>NaN</td>\n    </tr>\n    <tr>\n      <th>4</th>\n      <td>5</td>\n      <td>Meat Lover</td>\n      <td>Meat</td>\n      <td>NaN</td>\n    </tr>\n    <tr>\n      <th>...</th>\n      <td>...</td>\n      <td>...</td>\n      <td>...</td>\n      <td>...</td>\n    </tr>\n    <tr>\n      <th>85</th>\n      <td>88</td>\n      <td>Four Seasons</td>\n      <td>Vegan</td>\n      <td>NaN</td>\n    </tr>\n    <tr>\n      <th>86</th>\n      <td>89</td>\n      <td>BBQ Chicken Pizza</td>\n      <td>Meat</td>\n      <td>NaN</td>\n    </tr>\n    <tr>\n      <th>87</th>\n      <td>90</td>\n      <td>Capricciosa</td>\n      <td>Meat</td>\n      <td>NaN</td>\n    </tr>\n    <tr>\n      <th>88</th>\n      <td>91</td>\n      <td>Mexican Pizza</td>\n      <td>Meat</td>\n      <td>NaN</td>\n    </tr>\n    <tr>\n      <th>89</th>\n      <td>92</td>\n      <td>Supreme Pizza</td>\n      <td>Meat</td>\n      <td>NaN</td>\n    </tr>\n  </tbody>\n</table>\n<p>90 rows × 4 columns</p>\n</div>"
     },
     "execution_count": 7,
     "metadata": {},
     "output_type": "execute_result"
    }
   ],
   "source": [
    "%%sql\n",
    "SELECT * FROM Pizza;\n"
   ],
   "metadata": {
    "collapsed": false,
    "SqlCellData": {
     "data_source_name": "@localhost",
     "variableName$1": "df_sql23"
    },
    "ExecuteTime": {
     "end_time": "2024-09-26T11:50:42.805064900Z",
     "start_time": "2024-09-26T11:50:42.660902800Z"
    }
   },
   "id": "39aa1ec47a7e5f97",
   "execution_count": 7
  },
  {
   "cell_type": "code",
   "outputs": [
    {
     "data": {
      "text/plain": "   Tables_in_project\n0          customers\n1           delivery\n2     deliveryperson\n3        ingredients\n4   logininformation\n5          menuitems\n6     menuitemsorder\n7          orderinfo\n8              pizza\n9   pizzaingredients\n10        pizzaorder",
      "text/html": "<div>\n<style scoped>\n    .dataframe tbody tr th:only-of-type {\n        vertical-align: middle;\n    }\n\n    .dataframe tbody tr th {\n        vertical-align: top;\n    }\n\n    .dataframe thead th {\n        text-align: right;\n    }\n</style>\n<table border=\"1\" class=\"dataframe\">\n  <thead>\n    <tr style=\"text-align: right;\">\n      <th></th>\n      <th>Tables_in_project</th>\n    </tr>\n  </thead>\n  <tbody>\n    <tr>\n      <th>0</th>\n      <td>customers</td>\n    </tr>\n    <tr>\n      <th>1</th>\n      <td>delivery</td>\n    </tr>\n    <tr>\n      <th>2</th>\n      <td>deliveryperson</td>\n    </tr>\n    <tr>\n      <th>3</th>\n      <td>ingredients</td>\n    </tr>\n    <tr>\n      <th>4</th>\n      <td>logininformation</td>\n    </tr>\n    <tr>\n      <th>5</th>\n      <td>menuitems</td>\n    </tr>\n    <tr>\n      <th>6</th>\n      <td>menuitemsorder</td>\n    </tr>\n    <tr>\n      <th>7</th>\n      <td>orderinfo</td>\n    </tr>\n    <tr>\n      <th>8</th>\n      <td>pizza</td>\n    </tr>\n    <tr>\n      <th>9</th>\n      <td>pizzaingredients</td>\n    </tr>\n    <tr>\n      <th>10</th>\n      <td>pizzaorder</td>\n    </tr>\n  </tbody>\n</table>\n</div>"
     },
     "execution_count": 12,
     "metadata": {},
     "output_type": "execute_result"
    }
   ],
   "source": [
    "%%sql\n",
    "SHOW TABLES;"
   ],
   "metadata": {
    "collapsed": false,
    "SqlCellData": {
     "data_source_name": "@localhost",
     "variableName$1": "df_sql24"
    },
    "ExecuteTime": {
     "end_time": "2024-09-26T12:02:40.991444500Z",
     "start_time": "2024-09-26T12:02:40.880875Z"
    }
   },
   "id": "56e8dffad9a7affc",
   "execution_count": 12
  },
  {
   "cell_type": "code",
   "outputs": [
    {
     "data": {
      "text/plain": "Empty DataFrame\nColumns: [OrderNumber, CustomerID, Date, Time, Price]\nIndex: []",
      "text/html": "<div>\n<style scoped>\n    .dataframe tbody tr th:only-of-type {\n        vertical-align: middle;\n    }\n\n    .dataframe tbody tr th {\n        vertical-align: top;\n    }\n\n    .dataframe thead th {\n        text-align: right;\n    }\n</style>\n<table border=\"1\" class=\"dataframe\">\n  <thead>\n    <tr style=\"text-align: right;\">\n      <th></th>\n      <th>OrderNumber</th>\n      <th>CustomerID</th>\n      <th>Date</th>\n      <th>Time</th>\n      <th>Price</th>\n    </tr>\n  </thead>\n  <tbody>\n  </tbody>\n</table>\n</div>"
     },
     "execution_count": 26,
     "metadata": {},
     "output_type": "execute_result"
    }
   ],
   "source": [
    "%%sql\n",
    "SELECT * FROM Ingredients;"
   ],
   "metadata": {
    "collapsed": false,
    "SqlCellData": {
     "data_source_name": "@localhost",
     "variableName$1": "df_sql37"
    },
    "ExecuteTime": {
     "end_time": "2024-10-01T12:42:20.255818600Z",
     "start_time": "2024-10-01T12:42:20.143607300Z"
    }
   },
   "id": "e81abb9feaec675f",
   "execution_count": 26
  },
  {
   "cell_type": "code",
   "outputs": [],
   "source": [
    "%%sql\n",
    "DELETE FROM Pizza\n",
    "WHERE PizzaID = 9;\n"
   ],
   "metadata": {
    "collapsed": false,
    "SqlCellData": {
     "data_source_name": "@localhost",
     "variableName$1": "df_sql25"
    },
    "ExecuteTime": {
     "end_time": "2024-09-26T11:50:34.600304Z",
     "start_time": "2024-09-26T11:50:34.528147800Z"
    }
   },
   "id": "750eb448dc34df14",
   "execution_count": 6
  },
  {
   "cell_type": "code",
   "outputs": [],
   "source": [
    "%%sql\n",
    "DROP TABLE PizzaIngridients;"
   ],
   "metadata": {
    "collapsed": false,
    "SqlCellData": {
     "data_source_name": "@localhost",
     "variableName$1": "df_sql27"
    },
    "ExecuteTime": {
     "end_time": "2024-09-26T11:56:42.346337Z",
     "start_time": "2024-09-26T11:56:42.284332500Z"
    }
   },
   "id": "a8f93a8ec44c2906",
   "execution_count": 8
  },
  {
   "cell_type": "code",
   "outputs": [],
   "source": [
    "%%sql\n",
    "DROP TABLE Ingridients;"
   ],
   "metadata": {
    "collapsed": false,
    "SqlCellData": {
     "data_source_name": "@localhost",
     "variableName$1": "df_sql28"
    },
    "ExecuteTime": {
     "end_time": "2024-09-26T11:56:55.573517Z",
     "start_time": "2024-09-26T11:56:55.512510600Z"
    }
   },
   "id": "e593855e3635ad62"
  },
  {
   "cell_type": "code",
   "outputs": [],
   "source": [
    "%%sql\n",
    "DROP TABLE PizzaOrder;"
   ],
   "metadata": {
    "collapsed": false,
    "SqlCellData": {
     "data_source_name": "@localhost",
     "variableName$1": "df_sql29"
    },
    "ExecuteTime": {
     "end_time": "2024-09-26T11:57:54.531145700Z",
     "start_time": "2024-09-26T11:57:54.469143600Z"
    }
   },
   "id": "c00bc863705bd28d",
   "execution_count": 9
  },
  {
   "cell_type": "code",
   "outputs": [],
   "source": [
    "%%sql\n",
    "DROP TABLE Pizza;"
   ],
   "metadata": {
    "collapsed": false,
    "SqlCellData": {
     "data_source_name": "@localhost",
     "variableName$1": "df_sql30"
    },
    "ExecuteTime": {
     "end_time": "2024-09-26T11:58:03.946419300Z",
     "start_time": "2024-09-26T11:58:03.891421Z"
    }
   },
   "id": "b3598851c6463be5"
  },
  {
   "cell_type": "code",
   "outputs": [],
   "source": [
    "%%sql\n",
    "ALTER TABLE Pizza DROP COLUMN Price;\n"
   ],
   "metadata": {
    "collapsed": false,
    "SqlCellData": {
     "data_source_name": "@localhost",
     "variableName$1": "df_sql32"
    },
    "ExecuteTime": {
     "end_time": "2024-09-29T13:58:59.818386200Z",
     "start_time": "2024-09-29T13:58:59.696375300Z"
    }
   },
   "id": "90d7b960682b96d9"
  },
  {
   "cell_type": "code",
   "outputs": [],
   "source": [
    "%%sql\n",
    "ALTER TABLE Pizza ADD COLUMN Price DOUBLE;"
   ],
   "metadata": {
    "collapsed": false,
    "SqlCellData": {
     "data_source_name": "@localhost",
     "variableName$1": "df_sql34"
    },
    "ExecuteTime": {
     "end_time": "2024-10-01T08:52:23.638878700Z",
     "start_time": "2024-10-01T08:52:23.539865900Z"
    }
   },
   "id": "611c85a333f3d7cd"
  },
  {
   "cell_type": "code",
   "outputs": [
    {
     "data": {
      "text/plain": "   PizzaID                Name DietaryInfo    Price\n0        1          Margherita  Vegetarian  12.6658\n1        2           Pepperoni        Meat  15.5652\n2        3            Hawaiian        Meat  18.1594\n3        4  Vegetarian Delight  Vegetarian  22.2796\n4        5          Meat Lover        Meat  15.5652\n5        6        Four Seasons       Vegan  19.0750\n6        7   BBQ Chicken Pizza        Meat   8.2404\n7        8         Capricciosa        Meat  17.2438\n8        9       Mexican Pizza        Meat  15.5652\n9       10       Supreme Pizza        Meat  14.1918",
      "text/html": "<div>\n<style scoped>\n    .dataframe tbody tr th:only-of-type {\n        vertical-align: middle;\n    }\n\n    .dataframe tbody tr th {\n        vertical-align: top;\n    }\n\n    .dataframe thead th {\n        text-align: right;\n    }\n</style>\n<table border=\"1\" class=\"dataframe\">\n  <thead>\n    <tr style=\"text-align: right;\">\n      <th></th>\n      <th>PizzaID</th>\n      <th>Name</th>\n      <th>DietaryInfo</th>\n      <th>Price</th>\n    </tr>\n  </thead>\n  <tbody>\n    <tr>\n      <th>0</th>\n      <td>1</td>\n      <td>Margherita</td>\n      <td>Vegetarian</td>\n      <td>12.6658</td>\n    </tr>\n    <tr>\n      <th>1</th>\n      <td>2</td>\n      <td>Pepperoni</td>\n      <td>Meat</td>\n      <td>15.5652</td>\n    </tr>\n    <tr>\n      <th>2</th>\n      <td>3</td>\n      <td>Hawaiian</td>\n      <td>Meat</td>\n      <td>18.1594</td>\n    </tr>\n    <tr>\n      <th>3</th>\n      <td>4</td>\n      <td>Vegetarian Delight</td>\n      <td>Vegetarian</td>\n      <td>22.2796</td>\n    </tr>\n    <tr>\n      <th>4</th>\n      <td>5</td>\n      <td>Meat Lover</td>\n      <td>Meat</td>\n      <td>15.5652</td>\n    </tr>\n    <tr>\n      <th>5</th>\n      <td>6</td>\n      <td>Four Seasons</td>\n      <td>Vegan</td>\n      <td>19.0750</td>\n    </tr>\n    <tr>\n      <th>6</th>\n      <td>7</td>\n      <td>BBQ Chicken Pizza</td>\n      <td>Meat</td>\n      <td>8.2404</td>\n    </tr>\n    <tr>\n      <th>7</th>\n      <td>8</td>\n      <td>Capricciosa</td>\n      <td>Meat</td>\n      <td>17.2438</td>\n    </tr>\n    <tr>\n      <th>8</th>\n      <td>9</td>\n      <td>Mexican Pizza</td>\n      <td>Meat</td>\n      <td>15.5652</td>\n    </tr>\n    <tr>\n      <th>9</th>\n      <td>10</td>\n      <td>Supreme Pizza</td>\n      <td>Meat</td>\n      <td>14.1918</td>\n    </tr>\n  </tbody>\n</table>\n</div>"
     },
     "execution_count": 24,
     "metadata": {},
     "output_type": "execute_result"
    }
   ],
   "source": [
    "%%sql\n",
    "SELECT * FROM Pizza;"
   ],
   "metadata": {
    "collapsed": false,
    "SqlCellData": {
     "data_source_name": "@localhost",
     "variableName$1": "df_sql35"
    },
    "ExecuteTime": {
     "end_time": "2024-10-01T12:33:23.912079700Z",
     "start_time": "2024-10-01T12:33:23.802338900Z"
    }
   },
   "id": "2a86a7dd747b22ff",
   "execution_count": 24
  },
  {
   "cell_type": "code",
   "outputs": [],
   "source": [
    "%%sql\n",
    "INSERT INTO PizzaIngredients (PizzaID, IngredientID, DietaryInfo, Price) VALUES \n",
    "(10, 2, 'Vegetarian', 4.20), \n",
    "(10, 6, 'Vegetarian', 1.60), \n",
    "(10, 3, 'Meat', 3.50), \n",
    "(9, 2, 'Meat', 4.20), \n",
    "(9, 3, 'Meat', 3.50), \n",
    "(9, 1, 'Meat', 2.50)                                            "
   ],
   "metadata": {
    "collapsed": false,
    "SqlCellData": {
     "data_source_name": "@localhost",
     "variableName$1": "df_sql36"
    },
    "ExecuteTime": {
     "end_time": "2024-10-01T10:59:14.226891300Z",
     "start_time": "2024-10-01T10:59:14.175889400Z"
    }
   },
   "id": "899b5fd2f23e0e08"
  },
  {
   "cell_type": "code",
   "outputs": [],
   "source": [
    "%%sql\n",
    "INSERT INTO MenuItems (Name, Price) VALUES ('Coca-Cola Oreo', 2.30),\n",
    "                                           ('Beer', 5.00),\n",
    "                                           ('Lemonade', 3.40),\n",
    "                                           ('Fanta', 2.00),\n",
    "                                           ('Ice cream', 4.50),\n",
    "                                           ('Cheesecake', 5.10);\n",
    "                                           "
   ],
   "metadata": {
    "collapsed": false,
    "SqlCellData": {
     "data_source_name": "@localhost",
     "variableName$1": "df_sql38"
    },
    "ExecuteTime": {
     "end_time": "2024-10-01T12:47:03.485751Z",
     "start_time": "2024-10-01T12:47:03.404747800Z"
    }
   },
   "id": "2b277f32cafbcc45"
  },
  {
   "cell_type": "code",
   "outputs": [
    {
     "data": {
      "text/plain": "    CustomerID              Name  Gender                              Address  \\\n0            1    Denisa Nastasa  Female              Mathijs Heugenstraat 15   \n1            2    Denisa Nastasa  Female              Mathijs Heugenstraat 15   \n2            3    Denisa Nastasa  Female              Mathijs Heugenstraat 15   \n3            4    Denisa Nastasa  Female  Mathijs Heugenstraat 15, Maastricht   \n4            5       Tom Janssen    Male        Frankenstraat 112, Maastricht   \n5            6      Emma de Jong  Female      Sint Pieterstraat 7, Maastricht   \n6            7     Lars van Dijk    Male        Stationsstraat 12, Maastricht   \n7            8  Sophie Vermeulen  Female             Céramique 25, Maastricht   \n8            9    Denisa Nastasa  Female  Mathijs Heugenstraat 15, Maastricht   \n9           10              Luca    Male                              Mathijs   \n10          11              Cris  Female                           Maastricht   \n\n     Birthdate      Phone  \n0   2004-09-20  758563220  \n1   2004-09-20  758563220  \n2   2004-09-20  758563220  \n3   2004-09-20  758563220  \n4   1993-04-15  612345678  \n5   1989-02-22  687654321  \n6   2000-11-30  610987654  \n7   1995-07-07  623456789  \n8   2004-09-20  758563220  \n9   2004-07-22    1232343  \n10  2004-12-14        123  ",
      "text/html": "<div>\n<style scoped>\n    .dataframe tbody tr th:only-of-type {\n        vertical-align: middle;\n    }\n\n    .dataframe tbody tr th {\n        vertical-align: top;\n    }\n\n    .dataframe thead th {\n        text-align: right;\n    }\n</style>\n<table border=\"1\" class=\"dataframe\">\n  <thead>\n    <tr style=\"text-align: right;\">\n      <th></th>\n      <th>CustomerID</th>\n      <th>Name</th>\n      <th>Gender</th>\n      <th>Address</th>\n      <th>Birthdate</th>\n      <th>Phone</th>\n    </tr>\n  </thead>\n  <tbody>\n    <tr>\n      <th>0</th>\n      <td>1</td>\n      <td>Denisa Nastasa</td>\n      <td>Female</td>\n      <td>Mathijs Heugenstraat 15</td>\n      <td>2004-09-20</td>\n      <td>758563220</td>\n    </tr>\n    <tr>\n      <th>1</th>\n      <td>2</td>\n      <td>Denisa Nastasa</td>\n      <td>Female</td>\n      <td>Mathijs Heugenstraat 15</td>\n      <td>2004-09-20</td>\n      <td>758563220</td>\n    </tr>\n    <tr>\n      <th>2</th>\n      <td>3</td>\n      <td>Denisa Nastasa</td>\n      <td>Female</td>\n      <td>Mathijs Heugenstraat 15</td>\n      <td>2004-09-20</td>\n      <td>758563220</td>\n    </tr>\n    <tr>\n      <th>3</th>\n      <td>4</td>\n      <td>Denisa Nastasa</td>\n      <td>Female</td>\n      <td>Mathijs Heugenstraat 15, Maastricht</td>\n      <td>2004-09-20</td>\n      <td>758563220</td>\n    </tr>\n    <tr>\n      <th>4</th>\n      <td>5</td>\n      <td>Tom Janssen</td>\n      <td>Male</td>\n      <td>Frankenstraat 112, Maastricht</td>\n      <td>1993-04-15</td>\n      <td>612345678</td>\n    </tr>\n    <tr>\n      <th>5</th>\n      <td>6</td>\n      <td>Emma de Jong</td>\n      <td>Female</td>\n      <td>Sint Pieterstraat 7, Maastricht</td>\n      <td>1989-02-22</td>\n      <td>687654321</td>\n    </tr>\n    <tr>\n      <th>6</th>\n      <td>7</td>\n      <td>Lars van Dijk</td>\n      <td>Male</td>\n      <td>Stationsstraat 12, Maastricht</td>\n      <td>2000-11-30</td>\n      <td>610987654</td>\n    </tr>\n    <tr>\n      <th>7</th>\n      <td>8</td>\n      <td>Sophie Vermeulen</td>\n      <td>Female</td>\n      <td>Céramique 25, Maastricht</td>\n      <td>1995-07-07</td>\n      <td>623456789</td>\n    </tr>\n    <tr>\n      <th>8</th>\n      <td>9</td>\n      <td>Denisa Nastasa</td>\n      <td>Female</td>\n      <td>Mathijs Heugenstraat 15, Maastricht</td>\n      <td>2004-09-20</td>\n      <td>758563220</td>\n    </tr>\n    <tr>\n      <th>9</th>\n      <td>10</td>\n      <td>Luca</td>\n      <td>Male</td>\n      <td>Mathijs</td>\n      <td>2004-07-22</td>\n      <td>1232343</td>\n    </tr>\n    <tr>\n      <th>10</th>\n      <td>11</td>\n      <td>Cris</td>\n      <td>Female</td>\n      <td>Maastricht</td>\n      <td>2004-12-14</td>\n      <td>123</td>\n    </tr>\n  </tbody>\n</table>\n</div>"
     },
     "execution_count": 30,
     "metadata": {},
     "output_type": "execute_result"
    }
   ],
   "source": [
    "%%sql\n",
    "SELECT * FROM Customers;"
   ],
   "metadata": {
    "collapsed": false,
    "SqlCellData": {
     "data_source_name": "@localhost",
     "variableName$1": "df_sql39"
    },
    "ExecuteTime": {
     "end_time": "2024-10-01T13:34:39.740978800Z",
     "start_time": "2024-10-01T13:34:39.583050700Z"
    }
   },
   "id": "23f9bdca9c12fa94",
   "execution_count": 30
  },
  {
   "cell_type": "code",
   "outputs": [],
   "source": [
    "%%sql\n",
    "CREATE TABLE OrderPrice(\n",
    "    `OrderNumber` INTEGER ,\n",
    "    `Price` Float,\n",
    "    FOREIGN KEY (`OrderNumber`) REFERENCES OrderInfo(`OrderNumber`)\n",
    "    ON DELETE CASCADE\n",
    "    ON UPDATE CASCADE\n",
    ");"
   ],
   "metadata": {
    "collapsed": false,
    "SqlCellData": {
     "data_source_name": "@localhost",
     "variableName$1": "df_sql40"
    },
    "ExecuteTime": {
     "end_time": "2024-10-04T08:32:20.459499700Z",
     "start_time": "2024-10-04T08:32:20.372496400Z"
    }
   },
   "id": "ddc75d0d5c9cc28"
  },
  {
   "cell_type": "code",
   "outputs": [],
   "source": [
    "%%sql\n",
    "ALTER TABLE OrderInfo DROP COLUMN Price;\n"
   ],
   "metadata": {
    "collapsed": false,
    "SqlCellData": {
     "data_source_name": "@localhost",
     "variableName$1": "df_sql41"
    },
    "ExecuteTime": {
     "end_time": "2024-10-04T08:32:14.292026600Z",
     "start_time": "2024-10-04T08:32:14.156022Z"
    }
   },
   "id": "f2f0ec739ad985f9",
   "execution_count": 2
  },
  {
   "cell_type": "code",
   "outputs": [
    {
     "data": {
      "text/plain": "    OrderNumber  CustomerID        Date      Time\n0             1          10  2024-10-04  12:12:30\n1             2          12  2024-10-04  12:18:04\n2             3          10  2024-10-04  12:30:08\n3             4          10  2024-10-04  12:32:14\n4             5          10  2024-10-04  12:52:37\n5             6          12  2024-10-04  13:05:46\n6             7          10  2024-10-04  13:07:42\n7             8          10  2024-10-04  13:08:27\n8             9          10  2024-10-04  13:12:01\n9            10          12  2024-10-04  13:13:29\n10           11          12  2024-10-04  13:18:43\n11           12          10  2024-10-04  13:32:39\n12           13          10  2024-10-04  15:00:01\n13           14          12  2024-10-04  15:03:00\n14           15          10  2024-10-04  15:04:32\n15           16          10  2024-10-04  15:05:21\n16           17          12  2024-10-04  15:06:36\n17           18          12  2024-10-04  15:10:25\n18           19          10  2024-10-04  15:14:44\n19           20          12  2024-10-04  15:18:40\n20           21          12  2024-10-04  15:21:00\n21           22          12  2024-10-04  15:21:42\n22           23          12  2024-10-04  15:23:50\n23           24          12  2024-10-04  15:26:59\n24           25          10  2024-10-04  15:31:30\n25           26          10  2024-10-04  15:40:18\n26           27          12  2024-10-04  15:42:44\n27           28          10  2024-10-04  15:49:01\n28           29          10  2024-10-04  15:50:11\n29           30          10  2024-10-04  15:54:25\n30           31          12  2024-10-04  15:55:42\n31           32          10  2024-10-04  15:57:26\n32           33          12  2024-10-04  15:59:00\n33           34          12  2024-10-04  16:02:28\n34           35          10  2024-10-04  16:14:55\n35           36          12  2024-10-04  16:18:40",
      "text/html": "<div>\n<style scoped>\n    .dataframe tbody tr th:only-of-type {\n        vertical-align: middle;\n    }\n\n    .dataframe tbody tr th {\n        vertical-align: top;\n    }\n\n    .dataframe thead th {\n        text-align: right;\n    }\n</style>\n<table border=\"1\" class=\"dataframe\">\n  <thead>\n    <tr style=\"text-align: right;\">\n      <th></th>\n      <th>OrderNumber</th>\n      <th>CustomerID</th>\n      <th>Date</th>\n      <th>Time</th>\n    </tr>\n  </thead>\n  <tbody>\n    <tr>\n      <th>0</th>\n      <td>1</td>\n      <td>10</td>\n      <td>2024-10-04</td>\n      <td>12:12:30</td>\n    </tr>\n    <tr>\n      <th>1</th>\n      <td>2</td>\n      <td>12</td>\n      <td>2024-10-04</td>\n      <td>12:18:04</td>\n    </tr>\n    <tr>\n      <th>2</th>\n      <td>3</td>\n      <td>10</td>\n      <td>2024-10-04</td>\n      <td>12:30:08</td>\n    </tr>\n    <tr>\n      <th>3</th>\n      <td>4</td>\n      <td>10</td>\n      <td>2024-10-04</td>\n      <td>12:32:14</td>\n    </tr>\n    <tr>\n      <th>4</th>\n      <td>5</td>\n      <td>10</td>\n      <td>2024-10-04</td>\n      <td>12:52:37</td>\n    </tr>\n    <tr>\n      <th>5</th>\n      <td>6</td>\n      <td>12</td>\n      <td>2024-10-04</td>\n      <td>13:05:46</td>\n    </tr>\n    <tr>\n      <th>6</th>\n      <td>7</td>\n      <td>10</td>\n      <td>2024-10-04</td>\n      <td>13:07:42</td>\n    </tr>\n    <tr>\n      <th>7</th>\n      <td>8</td>\n      <td>10</td>\n      <td>2024-10-04</td>\n      <td>13:08:27</td>\n    </tr>\n    <tr>\n      <th>8</th>\n      <td>9</td>\n      <td>10</td>\n      <td>2024-10-04</td>\n      <td>13:12:01</td>\n    </tr>\n    <tr>\n      <th>9</th>\n      <td>10</td>\n      <td>12</td>\n      <td>2024-10-04</td>\n      <td>13:13:29</td>\n    </tr>\n    <tr>\n      <th>10</th>\n      <td>11</td>\n      <td>12</td>\n      <td>2024-10-04</td>\n      <td>13:18:43</td>\n    </tr>\n    <tr>\n      <th>11</th>\n      <td>12</td>\n      <td>10</td>\n      <td>2024-10-04</td>\n      <td>13:32:39</td>\n    </tr>\n    <tr>\n      <th>12</th>\n      <td>13</td>\n      <td>10</td>\n      <td>2024-10-04</td>\n      <td>15:00:01</td>\n    </tr>\n    <tr>\n      <th>13</th>\n      <td>14</td>\n      <td>12</td>\n      <td>2024-10-04</td>\n      <td>15:03:00</td>\n    </tr>\n    <tr>\n      <th>14</th>\n      <td>15</td>\n      <td>10</td>\n      <td>2024-10-04</td>\n      <td>15:04:32</td>\n    </tr>\n    <tr>\n      <th>15</th>\n      <td>16</td>\n      <td>10</td>\n      <td>2024-10-04</td>\n      <td>15:05:21</td>\n    </tr>\n    <tr>\n      <th>16</th>\n      <td>17</td>\n      <td>12</td>\n      <td>2024-10-04</td>\n      <td>15:06:36</td>\n    </tr>\n    <tr>\n      <th>17</th>\n      <td>18</td>\n      <td>12</td>\n      <td>2024-10-04</td>\n      <td>15:10:25</td>\n    </tr>\n    <tr>\n      <th>18</th>\n      <td>19</td>\n      <td>10</td>\n      <td>2024-10-04</td>\n      <td>15:14:44</td>\n    </tr>\n    <tr>\n      <th>19</th>\n      <td>20</td>\n      <td>12</td>\n      <td>2024-10-04</td>\n      <td>15:18:40</td>\n    </tr>\n    <tr>\n      <th>20</th>\n      <td>21</td>\n      <td>12</td>\n      <td>2024-10-04</td>\n      <td>15:21:00</td>\n    </tr>\n    <tr>\n      <th>21</th>\n      <td>22</td>\n      <td>12</td>\n      <td>2024-10-04</td>\n      <td>15:21:42</td>\n    </tr>\n    <tr>\n      <th>22</th>\n      <td>23</td>\n      <td>12</td>\n      <td>2024-10-04</td>\n      <td>15:23:50</td>\n    </tr>\n    <tr>\n      <th>23</th>\n      <td>24</td>\n      <td>12</td>\n      <td>2024-10-04</td>\n      <td>15:26:59</td>\n    </tr>\n    <tr>\n      <th>24</th>\n      <td>25</td>\n      <td>10</td>\n      <td>2024-10-04</td>\n      <td>15:31:30</td>\n    </tr>\n    <tr>\n      <th>25</th>\n      <td>26</td>\n      <td>10</td>\n      <td>2024-10-04</td>\n      <td>15:40:18</td>\n    </tr>\n    <tr>\n      <th>26</th>\n      <td>27</td>\n      <td>12</td>\n      <td>2024-10-04</td>\n      <td>15:42:44</td>\n    </tr>\n    <tr>\n      <th>27</th>\n      <td>28</td>\n      <td>10</td>\n      <td>2024-10-04</td>\n      <td>15:49:01</td>\n    </tr>\n    <tr>\n      <th>28</th>\n      <td>29</td>\n      <td>10</td>\n      <td>2024-10-04</td>\n      <td>15:50:11</td>\n    </tr>\n    <tr>\n      <th>29</th>\n      <td>30</td>\n      <td>10</td>\n      <td>2024-10-04</td>\n      <td>15:54:25</td>\n    </tr>\n    <tr>\n      <th>30</th>\n      <td>31</td>\n      <td>12</td>\n      <td>2024-10-04</td>\n      <td>15:55:42</td>\n    </tr>\n    <tr>\n      <th>31</th>\n      <td>32</td>\n      <td>10</td>\n      <td>2024-10-04</td>\n      <td>15:57:26</td>\n    </tr>\n    <tr>\n      <th>32</th>\n      <td>33</td>\n      <td>12</td>\n      <td>2024-10-04</td>\n      <td>15:59:00</td>\n    </tr>\n    <tr>\n      <th>33</th>\n      <td>34</td>\n      <td>12</td>\n      <td>2024-10-04</td>\n      <td>16:02:28</td>\n    </tr>\n    <tr>\n      <th>34</th>\n      <td>35</td>\n      <td>10</td>\n      <td>2024-10-04</td>\n      <td>16:14:55</td>\n    </tr>\n    <tr>\n      <th>35</th>\n      <td>36</td>\n      <td>12</td>\n      <td>2024-10-04</td>\n      <td>16:18:40</td>\n    </tr>\n  </tbody>\n</table>\n</div>"
     },
     "execution_count": 30,
     "metadata": {},
     "output_type": "execute_result"
    }
   ],
   "source": [
    "%%sql\n",
    "SELECT * FROM OrderInfo;"
   ],
   "metadata": {
    "collapsed": false,
    "SqlCellData": {
     "data_source_name": "@localhost",
     "variableName$1": "df_sql42"
    },
    "ExecuteTime": {
     "end_time": "2024-10-04T14:19:17.786045100Z",
     "start_time": "2024-10-04T14:19:17.450633Z"
    }
   },
   "id": "a9f2cbe601bded90",
   "execution_count": 30
  },
  {
   "cell_type": "code",
   "outputs": [
    {
     "data": {
      "text/plain": "   OrderNumber   Price\n0           36  55.369",
      "text/html": "<div>\n<style scoped>\n    .dataframe tbody tr th:only-of-type {\n        vertical-align: middle;\n    }\n\n    .dataframe tbody tr th {\n        vertical-align: top;\n    }\n\n    .dataframe thead th {\n        text-align: right;\n    }\n</style>\n<table border=\"1\" class=\"dataframe\">\n  <thead>\n    <tr style=\"text-align: right;\">\n      <th></th>\n      <th>OrderNumber</th>\n      <th>Price</th>\n    </tr>\n  </thead>\n  <tbody>\n    <tr>\n      <th>0</th>\n      <td>36</td>\n      <td>55.369</td>\n    </tr>\n  </tbody>\n</table>\n</div>"
     },
     "execution_count": 29,
     "metadata": {},
     "output_type": "execute_result"
    }
   ],
   "source": [
    "%%sql\n",
    "SELECT * FROM OrderPrice;"
   ],
   "metadata": {
    "collapsed": false,
    "SqlCellData": {
     "data_source_name": "@localhost",
     "variableName$1": "df_sql43"
    },
    "ExecuteTime": {
     "end_time": "2024-10-04T14:18:58.963088200Z",
     "start_time": "2024-10-04T14:18:58.747790400Z"
    }
   },
   "id": "effc9bf22dc92140",
   "execution_count": 29
  }
 ],
 "metadata": {
  "kernelspec": {
   "display_name": "Python 3",
   "language": "python",
   "name": "python3"
  },
  "language_info": {
   "codemirror_mode": {
    "name": "ipython",
    "version": 2
   },
   "file_extension": ".py",
   "mimetype": "text/x-python",
   "name": "python",
   "nbconvert_exporter": "python",
   "pygments_lexer": "ipython2",
   "version": "2.7.6"
  }
 },
 "nbformat": 4,
 "nbformat_minor": 5
}
